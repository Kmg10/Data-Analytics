{
 "cells": [
  {
   "cell_type": "markdown",
   "metadata": {
    "colab_type": "text",
    "id": "pQqwIswFvJF6"
   },
   "source": [
    "# Pandas\n",
    "- package built on top of NumPy \n",
    "- efficient implementation of dataframes"
   ]
  },
  {
   "cell_type": "code",
   "execution_count": 2,
   "metadata": {
    "colab": {},
    "colab_type": "code",
    "id": "-Y6fi28QvJF9"
   },
   "outputs": [],
   "source": [
    "import pandas as pd"
   ]
  },
  {
   "cell_type": "code",
   "execution_count": 0,
   "metadata": {
    "colab": {},
    "colab_type": "code",
    "id": "vrC4uugbvJGH",
    "outputId": "e310ca68-d5a4-4e1a-95ea-56871aa26653"
   },
   "outputs": [
    {
     "name": "stdout",
     "output_type": "stream",
     "text": [
      "0.23.4\n"
     ]
    }
   ],
   "source": [
    "print(pd.__version__)\n",
    "pd?"
   ]
  },
  {
   "cell_type": "markdown",
   "metadata": {
    "colab_type": "text",
    "id": "z23hOv05vJGP"
   },
   "source": [
    "# Pandas Series\n",
    "- 1D array of indexed data"
   ]
  },
  {
   "cell_type": "markdown",
   "metadata": {
    "colab_type": "text",
    "id": "ffaraq4vvJGR"
   },
   "source": [
    "## Creation of Pandas Series"
   ]
  },
  {
   "cell_type": "code",
   "execution_count": 0,
   "metadata": {
    "colab": {},
    "colab_type": "code",
    "collapsed": true,
    "id": "9rO27XcuvJGT",
    "outputId": "f474fa8e-ee86-488f-8b23-c2b835b70ca3"
   },
   "outputs": [
    {
     "name": "stdout",
     "output_type": "stream",
     "text": [
      "Pandas Series:\n",
      " 0    0.20\n",
      "1    0.50\n",
      "2    0.75\n",
      "3    1.60\n",
      "dtype: float64\n",
      "Series.values:  [0.2  0.5  0.75 1.6 ]\n",
      "Data type of Series:  <class 'numpy.ndarray'>\n",
      "Type of series:  <class 'pandas.core.series.Series'>\n",
      "Index of Series:  RangeIndex(start=0, stop=4, step=1)\n"
     ]
    }
   ],
   "source": [
    "series = pd.Series([0.2, 0.5, 0.75, 1.6])\n",
    "print(\"Pandas Series:\\n\" , series)\n",
    "\n",
    "#Attributes of pandas Series\n",
    "print(\"Series.values: \",series.values)\n",
    "print(\"Data type of Series: \", type(series.values))\n",
    "print(\"Type of series: \", type(series))\n",
    "print(\"Index of Series: \", series.index)"
   ]
  },
  {
   "cell_type": "code",
   "execution_count": 0,
   "metadata": {
    "colab": {},
    "colab_type": "code",
    "collapsed": true,
    "id": "0EEyqXWzvJGb",
    "outputId": "3495b560-4416-497c-a043-f165ad62bad1"
   },
   "outputs": [
    {
     "data": {
      "text/plain": [
       "100    5\n",
       "200    5\n",
       "300    5\n",
       "dtype: int64"
      ]
     },
     "execution_count": 38,
     "metadata": {
      "tags": []
     },
     "output_type": "execute_result"
    }
   ],
   "source": [
    "pd.Series(5, index=[100, 200, 300])"
   ]
  },
  {
   "cell_type": "markdown",
   "metadata": {
    "colab_type": "text",
    "id": "0fZlUSslvJGi"
   },
   "source": [
    "### Creating series from a list"
   ]
  },
  {
   "cell_type": "code",
   "execution_count": 0,
   "metadata": {
    "colab": {},
    "colab_type": "code",
    "collapsed": true,
    "id": "BdwSAVgZvJGk",
    "outputId": "0d729691-dadc-440d-dd7d-edb9dfa71d74"
   },
   "outputs": [
    {
     "name": "stdout",
     "output_type": "stream",
     "text": [
      "List is:  [20, 15, 42, 33, 94, 8, 5]\n",
      "Series from List: \n",
      " 0    20\n",
      "1    15\n",
      "2    42\n",
      "3    33\n",
      "4    94\n",
      "5     8\n",
      "6     5\n",
      "dtype: int64\n"
     ]
    }
   ],
   "source": [
    "List=[20, 15, 42, 33, 94, 8, 5]\n",
    "print(\"List is: \" , List)\n",
    "ser_list=pd.Series(List)\n",
    "print(\"Series from List: \\n\",ser_list)"
   ]
  },
  {
   "cell_type": "code",
   "execution_count": 0,
   "metadata": {
    "colab": {},
    "colab_type": "code",
    "collapsed": true,
    "id": "VaxRbaRlvJGr",
    "outputId": "0aeb45b0-ebce-40ff-8f0b-be7fd8fab9ab"
   },
   "outputs": [
    {
     "name": "stdout",
     "output_type": "stream",
     "text": [
      "Explicit Indexing: \n",
      "  i      20\n",
      "ii     15\n",
      "iii    42\n",
      "iv     33\n",
      "v      94\n",
      "vi      8\n",
      "vii     5\n",
      "dtype: int64\n"
     ]
    }
   ],
   "source": [
    "print(\"Explicit Indexing: \\n\",\n",
    "      pd.Series(List, index = ['i','ii','iii','iv','v','vi','vii']))"
   ]
  },
  {
   "cell_type": "code",
   "execution_count": 0,
   "metadata": {
    "colab": {},
    "colab_type": "code",
    "collapsed": true,
    "id": "FFmHWzqAvJGy",
    "outputId": "d2c4f354-eaa3-4e24-89e7-be03f1c05c39"
   },
   "outputs": [
    {
     "name": "stdout",
     "output_type": "stream",
     "text": [
      "Ordered series: \n",
      " 1    20\n",
      "2    15\n",
      "3    42\n",
      "4    33\n",
      "5    94\n",
      "6     8\n",
      "7     5\n",
      "dtype: int64\n"
     ]
    }
   ],
   "source": [
    "order=[1,2,3,4,5,6,7]\n",
    "ser_ord=pd.Series(List,index=order)\n",
    "print(\"Ordered series: \\n\",ser_ord)"
   ]
  },
  {
   "cell_type": "markdown",
   "metadata": {
    "colab_type": "text",
    "id": "mUJU5zZrvJG5"
   },
   "source": [
    "##### Numpy 1D array vs Series\n",
    "- Array contains implicit indexing, series has explicit indexing along with some additional capabilities"
   ]
  },
  {
   "cell_type": "code",
   "execution_count": 20,
   "metadata": {
    "colab": {},
    "colab_type": "code",
    "id": "v_PdKnNQvJG8"
   },
   "outputs": [],
   "source": [
    "import numpy as np"
   ]
  },
  {
   "cell_type": "code",
   "execution_count": 0,
   "metadata": {
    "colab": {},
    "colab_type": "code",
    "collapsed": true,
    "id": "G1Hqs_X5vJHG",
    "outputId": "cdc77b86-d68b-41f0-b3f8-f5aa43c32235"
   },
   "outputs": [
    {
     "name": "stdout",
     "output_type": "stream",
     "text": [
      "Array is:  [0.18476214 0.76652344 0.85011595 0.84014284 0.04422941]\n",
      "Series from Numpy Array: \n",
      " a    0.184762\n",
      "b    0.766523\n",
      "c    0.850116\n",
      "d    0.840143\n",
      "e    0.044229\n",
      "dtype: float64\n"
     ]
    }
   ],
   "source": [
    "#Creating Series from a Ndarray\n",
    "\n",
    "np_arr=np.random.rand(5)\n",
    "print(\"Array is: \", np_arr)\n",
    "\n",
    "index=['a','b','c','d','e']\n",
    "ser_arr=pd.Series(np_arr,index=index)\n",
    "print(\"Series from Numpy Array: \\n\", ser_arr)"
   ]
  },
  {
   "cell_type": "markdown",
   "metadata": {
    "colab_type": "text",
    "id": "0O8YT-VqvJHM"
   },
   "source": [
    "##### Pandas Series are a kind of specialization of Python dictionaries.\n",
    "- A dictionary is a structure that maps arbitrary keys to a set of arbitrary values, and a Series is a structure that maps typed keys to a set of typed values.\n",
    "- But series are much more effecient than dictionaries"
   ]
  },
  {
   "cell_type": "code",
   "execution_count": 7,
   "metadata": {
    "colab": {},
    "colab_type": "code",
    "collapsed": true,
    "id": "3FR2v5MbvJHN",
    "outputId": "e09e62aa-8bd7-491f-a090-dd98d5457ca8"
   },
   "outputs": [
    {
     "name": "stdout",
     "output_type": "stream",
     "text": [
      "Dictionary is:  {'monkey': 153, 'rat': 212, 'cotton': 334, 'fan': 98}\n",
      "Series from Dictionary:\n",
      " monkey    153\n",
      "rat       212\n",
      "cotton    334\n",
      "fan        98\n",
      "dtype: int64\n"
     ]
    }
   ],
   "source": [
    "#creating series from a dictionary\n",
    "d={'monkey':153 ,'rat':212 ,'cotton':334 ,'fan':98}\n",
    "print(\"Dictionary is: \", d)\n",
    "ser_d=pd.Series(d)\n",
    "print(\"Series from Dictionary:\\n\", ser_d)"
   ]
  },
  {
   "cell_type": "markdown",
   "metadata": {
    "colab_type": "text",
    "id": "o7-MW0V0vJHT"
   },
   "source": [
    "# Indexing and slicing"
   ]
  },
  {
   "cell_type": "code",
   "execution_count": null,
   "metadata": {},
   "outputs": [],
   "source": [
    "# Index as immutable array\n",
    "\n",
    "ind = pd.Index([2, 3, 5, 7, 11])\n",
    "print(ind)\n",
    "print(ind[2])\n",
    "print(ind[ : : 2])\n",
    "# familiar attributes from NumPy arrays\n",
    "print(ind.size , ind.shape, ind.ndim, ind.dtype)\n",
    "#ind[2] = 4"
   ]
  },
  {
   "cell_type": "code",
   "execution_count": 3,
   "metadata": {
    "colab": {},
    "colab_type": "code",
    "collapsed": true,
    "id": "0Jkvl7LavJHU"
   },
   "outputs": [
    {
     "data": {
      "text/plain": [
       "3    c\n",
       "2    a\n",
       "dtype: object"
      ]
     },
     "execution_count": 3,
     "metadata": {},
     "output_type": "execute_result"
    }
   ],
   "source": [
    "pd.Series({2:'a', 1:'b', 3:'c'}, index=[3, 2])"
   ]
  },
  {
   "cell_type": "code",
   "execution_count": 4,
   "metadata": {
    "colab": {},
    "colab_type": "code",
    "collapsed": true,
    "id": "MkmQeCC_vJHZ",
    "outputId": "5f2e71c7-ee5d-4d0f-eb7e-3a5ff58be254"
   },
   "outputs": [
    {
     "name": "stdout",
     "output_type": "stream",
     "text": [
      "0    0\n",
      "1    1\n",
      "2    2\n",
      "3    3\n",
      "4    4\n",
      "dtype: int64\n",
      "A    0\n",
      "B    1\n",
      "C    2\n",
      "D    3\n",
      "E    4\n",
      "dtype: int64\n"
     ]
    }
   ],
   "source": [
    "s1= pd.Series([0,1,2,3,4])\n",
    "print(s1)\n",
    "s1.index=['A','B','C','D','E']\n",
    "print(s1)"
   ]
  },
  {
   "cell_type": "code",
   "execution_count": 16,
   "metadata": {
    "collapsed": true
   },
   "outputs": [
    {
     "name": "stdout",
     "output_type": "stream",
     "text": [
      "True\n",
      "Index(['A', 'B', 'C', 'D', 'E', 'F'], dtype='object')\n",
      "[('A', 0), ('B', 1), ('C', 2), ('D', 3), ('E', 4), ('F', 5)]\n",
      "A    0\n",
      "B    1\n",
      "C    2\n",
      "D    3\n",
      "E    4\n",
      "F    5\n",
      "dtype: int64\n"
     ]
    }
   ],
   "source": [
    "print('A' in s1)\n",
    "print(s1.keys())\n",
    "print(list(s1.items()))\n",
    "\n",
    "# extending the series like dictinaries\n",
    "s1['F'] = 5\n",
    "print(s1)"
   ]
  },
  {
   "cell_type": "markdown",
   "metadata": {},
   "source": [
    "## Index Slicing\n",
    "- Explicit \n",
    "- Implicit"
   ]
  },
  {
   "cell_type": "code",
   "execution_count": null,
   "metadata": {},
   "outputs": [],
   "source": [
    "print(ser_d['monkey' : 'cotton'])"
   ]
  },
  {
   "cell_type": "code",
   "execution_count": null,
   "metadata": {},
   "outputs": [],
   "source": [
    "d = pd.Series(['a', 'b', 'c'], index=[1, 3, 5])\n",
    "print(\"Series : \\n\",d)\n",
    "print('d[1]' , d[1])\n",
    "print('d[1:3]' , d[1:3])"
   ]
  },
  {
   "cell_type": "code",
   "execution_count": 21,
   "metadata": {
    "collapsed": true
   },
   "outputs": [
    {
     "name": "stdout",
     "output_type": "stream",
     "text": [
      "0    1\n",
      "1    2\n",
      "2    3\n",
      "3    4\n",
      "4    5\n",
      "dtype: int64\n",
      "0    1\n",
      "1    2\n",
      "2    3\n",
      "dtype: int64\n"
     ]
    }
   ],
   "source": [
    "d1 = pd.Series([1,2,3,4,5], index = [0,1,2,3,4])\n",
    "print('Series : \\n' , d1)\n",
    "print('d1[0:3] ' , d1[0:3])"
   ]
  },
  {
   "cell_type": "code",
   "execution_count": 11,
   "metadata": {
    "collapsed": true
   },
   "outputs": [
    {
     "name": "stdout",
     "output_type": "stream",
     "text": [
      "A    0\n",
      "B    1\n",
      "C    2\n",
      "D    3\n",
      "E    4\n",
      "dtype: int64\n",
      "A    0\n",
      "B    1\n",
      "C    2\n",
      "D    3\n",
      "dtype: int64\n",
      "B    1\n",
      "C    2\n",
      "D    3\n",
      "dtype: int64\n",
      "A    0\n",
      "C    2\n",
      "dtype: int64\n",
      "0    9\n",
      "1    8\n",
      "2    6\n",
      "3    5\n",
      "4    4\n",
      "dtype: int64\n",
      "0    9\n",
      "1    8\n",
      "2    6\n",
      "3    5\n",
      "4    4\n",
      "dtype: int64\n"
     ]
    }
   ],
   "source": [
    "print(\"Series is : \\n\",s1)\n",
    "# For explicit slicing, the stop index is inclusive \n",
    "print(\"Explicit Slicing\")\n",
    "print('s1['A' : 'E'] ' , s1['A' : 'E'])\n",
    "print('s1[:'D'] ' , s1[:'D'])\n",
    "print(\"Implicit Slicing\")\n",
    "print('s1[0 : 4] ' , s1[0 : 4])\n",
    "print('s1[-2:] ' , s1[-2:])\n",
    "\n",
    "# Masking\n",
    "print(\"Masking : s1[(s1>0) & (s1<4)] \", s1[(s1>0) & (s1<4)])\n",
    "\n",
    "# Fancy indexing\n",
    "print('s1[['A', 'C']] ' , s1[['A', 'C']])"
   ]
  },
  {
   "cell_type": "code",
   "execution_count": 14,
   "metadata": {
    "collapsed": true
   },
   "outputs": [
    {
     "name": "stdout",
     "output_type": "stream",
     "text": [
      "1    a\n",
      "3    b\n",
      "5    c\n",
      "dtype: object\n",
      "1    a\n",
      "3    b\n",
      "dtype: object\n",
      "a\n"
     ]
    }
   ],
   "source": [
    "#the loc - indexing and slicing with explicit index\n",
    "print('Seies: \\n' , d)\n",
    "print('d.loc[1:3] ' , d.loc[1:3])\n",
    "print('d.loc[1] ' , d.loc[1])"
   ]
  },
  {
   "cell_type": "code",
   "execution_count": 16,
   "metadata": {
    "collapsed": true
   },
   "outputs": [
    {
     "name": "stdout",
     "output_type": "stream",
     "text": [
      "1    a\n",
      "3    b\n",
      "5    c\n",
      "dtype: object\n",
      "b\n",
      "3    b\n",
      "5    c\n",
      "dtype: object\n"
     ]
    }
   ],
   "source": [
    "#iloc - indexing and slicing with implicit index:\n",
    "print('Seies: \\n' , d)\n",
    "print('d.iloc[1] ' , d.iloc[1])\n",
    "print('d.iloc[1 : 3] ', d.iloc[1 : 3])"
   ]
  },
  {
   "cell_type": "markdown",
   "metadata": {},
   "source": [
    "## Series Operations"
   ]
  },
  {
   "cell_type": "code",
   "execution_count": 0,
   "metadata": {
    "colab": {},
    "colab_type": "code",
    "collapsed": true,
    "id": "h-4i742NvJHq",
    "outputId": "b7bb6c1e-fb99-41b6-814a-7cbc0359465c"
   },
   "outputs": [
    {
     "name": "stdout",
     "output_type": "stream",
     "text": [
      "a    1\n",
      "b    2\n",
      "c    3\n",
      "d    4\n",
      "dtype: int64\n",
      "A    0\n",
      "B    1\n",
      "C    2\n",
      "D    3\n",
      "E    4\n",
      "a    1\n",
      "b    2\n",
      "c    3\n",
      "d    4\n",
      "dtype: int64\n",
      "<class 'pandas.core.series.Series'>\n"
     ]
    }
   ],
   "source": [
    "s3 = pd.Series([1,2,3,4], index = ['a','b','c','d'])\n",
    "print(s3)\n",
    "s4=s1.append(s3)\n",
    "print(s4)\n",
    "print(type(s4))"
   ]
  },
  {
   "cell_type": "code",
   "execution_count": 0,
   "metadata": {
    "colab": {},
    "colab_type": "code",
    "collapsed": true,
    "id": "rDut8ETzvJH1",
    "outputId": "8ca62908-5bfc-43a6-cae5-278a28ebb98f"
   },
   "outputs": [
    {
     "data": {
      "text/plain": [
       "A    0\n",
       "B    1\n",
       "C    2\n",
       "D    3\n",
       "E    4\n",
       "a    1\n",
       "b    2\n",
       "d    4\n",
       "dtype: int64"
      ]
     },
     "execution_count": 19,
     "metadata": {
      "tags": []
     },
     "output_type": "execute_result"
    }
   ],
   "source": [
    "# Delete a row with a particular element\n",
    "s4.drop('c')"
   ]
  },
  {
   "cell_type": "markdown",
   "metadata": {},
   "source": [
    "### Arithmetic Functions"
   ]
  },
  {
   "cell_type": "code",
   "execution_count": 20,
   "metadata": {
    "colab": {},
    "colab_type": "code",
    "collapsed": true,
    "id": "Yqvjf-KWvJIT",
    "outputId": "1c5ecffc-333d-452c-9ab7-8baa2583270b"
   },
   "outputs": [
    {
     "name": "stdout",
     "output_type": "stream",
     "text": [
      "Series are : \n",
      " 0    6\n",
      "1    7\n",
      "2    8\n",
      "3    9\n",
      "4    5\n",
      "dtype: int64 \n",
      " 0    0\n",
      "1    1\n",
      "2    2\n",
      "3    3\n",
      "4    4\n",
      "5    5\n",
      "6    7\n",
      "dtype: int64\n"
     ]
    }
   ],
   "source": [
    "s5=pd.Series([6,7,8,9,5])\n",
    "s6=pd.Series([0,1,2,3,4,5,7])\n",
    "print('Series are : \\n',s5, '\\n', s6)"
   ]
  },
  {
   "cell_type": "code",
   "execution_count": 22,
   "metadata": {
    "colab": {},
    "colab_type": "code",
    "collapsed": true,
    "id": "OigGDHDBvJIe",
    "outputId": "bb657f94-e663-4da1-eb99-9dc3d937528d"
   },
   "outputs": [
    {
     "name": "stdout",
     "output_type": "stream",
     "text": [
      "Addition of series: \n",
      " 0     6.0\n",
      "1     8.0\n",
      "2    10.0\n",
      "3    12.0\n",
      "4     9.0\n",
      "5     NaN\n",
      "6     NaN\n",
      "dtype: float64\n",
      "\n",
      " Subtraction of series: \n",
      " 0    6.0\n",
      "1    6.0\n",
      "2    6.0\n",
      "3    6.0\n",
      "4    1.0\n",
      "5    NaN\n",
      "6    NaN\n",
      "dtype: float64\n",
      "\n",
      " Multiplication of series: \n",
      " 0     0.0\n",
      "1     7.0\n",
      "2    16.0\n",
      "3    27.0\n",
      "4    20.0\n",
      "5     NaN\n",
      "6     NaN\n",
      "dtype: float64\n",
      "\n",
      " Division of series: \n",
      " 0         inf\n",
      "1    7.000000\n",
      "2    4.000000\n",
      "3    3.000000\n",
      "4    1.250000\n",
      "5         NaN\n",
      "6         NaN\n",
      "dtype: float64\n"
     ]
    }
   ],
   "source": [
    "print('Addition of series: \\n', s5.add(s6))\n",
    "print('\\n Subtraction of series: \\n', s5.sub(s6))\n",
    "print('\\n Multiplication of series: \\n', s5.mul(s6))\n",
    "print('\\n Division of series: \\n', s5.div(s6))"
   ]
  },
  {
   "cell_type": "markdown",
   "metadata": {},
   "source": [
    "### Aggregate Functions\n",
    "- helps in knowing the missing values in big data sets"
   ]
  },
  {
   "cell_type": "code",
   "execution_count": 24,
   "metadata": {
    "colab": {},
    "colab_type": "code",
    "collapsed": true,
    "id": "NXQbPYLLvJI4",
    "outputId": "0764206b-a3d8-4877-d075-e3621695b05f"
   },
   "outputs": [
    {
     "name": "stdout",
     "output_type": "stream",
     "text": [
      "Median of series: \n",
      " 0    0\n",
      "1    1\n",
      "2    2\n",
      "3    3\n",
      "4    4\n",
      "5    5\n",
      "6    7\n",
      "dtype: int64 is-  3.0\n",
      "Mean of series: \n",
      " 0    0\n",
      "1    1\n",
      "2    2\n",
      "3    3\n",
      "4    4\n",
      "5    5\n",
      "6    7\n",
      "dtype: int64 is-  3.142857142857143\n",
      "Maximum of series: \n",
      " 0    6\n",
      "1    7\n",
      "2    8\n",
      "3    9\n",
      "4    5\n",
      "dtype: int64 is-  7\n",
      "Minimum of series: \n",
      " 0    6\n",
      "1    7\n",
      "2    8\n",
      "3    9\n",
      "4    5\n",
      "dtype: int64 is-  0\n"
     ]
    }
   ],
   "source": [
    "print(\"Median of series: \\n\",s6, 'is- ', s6.median())\n",
    "print(\"Mean of series: \\n\",s6, 'is- ', s6.mean())\n",
    "print(\"Maximum of series: \\n\",s5, 'is- ', s6.max())\n",
    "print(\"Minimum of series: \\n\",s5, 'is- ', s6.min())"
   ]
  },
  {
   "cell_type": "markdown",
   "metadata": {
    "colab_type": "text",
    "id": "VH7pMGYFvJJV"
   },
   "source": [
    "### DataFrames\n",
    "- generalization of NumPy 2D Arrays \n",
    "- multidimensional arrays with attached row and column lables\n",
    "- can be seen as a sequence of aligned Series object, i.e., share same index\n",
    "- with heterogenous and/or missing data\n",
    "- no. of powerful data operations\n",
    "- data munging tasks"
   ]
  },
  {
   "cell_type": "code",
   "execution_count": 3,
   "metadata": {
    "colab": {},
    "colab_type": "code",
    "collapsed": true,
    "id": "tojZV3yQyvxr"
   },
   "outputs": [
    {
     "data": {
      "text/html": [
       "<div>\n",
       "<style scoped>\n",
       "    .dataframe tbody tr th:only-of-type {\n",
       "        vertical-align: middle;\n",
       "    }\n",
       "\n",
       "    .dataframe tbody tr th {\n",
       "        vertical-align: top;\n",
       "    }\n",
       "\n",
       "    .dataframe thead th {\n",
       "        text-align: right;\n",
       "    }\n",
       "</style>\n",
       "<table border=\"1\" class=\"dataframe\">\n",
       "  <thead>\n",
       "    <tr style=\"text-align: right;\">\n",
       "      <th></th>\n",
       "      <th>a</th>\n",
       "      <th>b</th>\n",
       "    </tr>\n",
       "  </thead>\n",
       "  <tbody>\n",
       "    <tr>\n",
       "      <th>0</th>\n",
       "      <td>0</td>\n",
       "      <td>0</td>\n",
       "    </tr>\n",
       "    <tr>\n",
       "      <th>1</th>\n",
       "      <td>1</td>\n",
       "      <td>2</td>\n",
       "    </tr>\n",
       "    <tr>\n",
       "      <th>2</th>\n",
       "      <td>2</td>\n",
       "      <td>4</td>\n",
       "    </tr>\n",
       "  </tbody>\n",
       "</table>\n",
       "</div>"
      ],
      "text/plain": [
       "   a  b\n",
       "0  0  0\n",
       "1  1  2\n",
       "2  2  4"
      ]
     },
     "execution_count": 3,
     "metadata": {},
     "output_type": "execute_result"
    }
   ],
   "source": [
    "data = [{'a': i, 'b': 2 * i} for i in range(3)] \n",
    "pd.DataFrame(data)"
   ]
  },
  {
   "cell_type": "code",
   "execution_count": 9,
   "metadata": {
    "colab": {
     "base_uri": "https://localhost:8080/",
     "height": 106
    },
    "colab_type": "code",
    "collapsed": true,
    "id": "hfPYLD1qy63g",
    "outputId": "303e16e0-0927-4921-9d2f-1e66ba2de519"
   },
   "outputs": [
    {
     "data": {
      "text/html": [
       "<div>\n",
       "<style scoped>\n",
       "    .dataframe tbody tr th:only-of-type {\n",
       "        vertical-align: middle;\n",
       "    }\n",
       "\n",
       "    .dataframe tbody tr th {\n",
       "        vertical-align: top;\n",
       "    }\n",
       "\n",
       "    .dataframe thead th {\n",
       "        text-align: right;\n",
       "    }\n",
       "</style>\n",
       "<table border=\"1\" class=\"dataframe\">\n",
       "  <thead>\n",
       "    <tr style=\"text-align: right;\">\n",
       "      <th></th>\n",
       "      <th>a</th>\n",
       "      <th>b</th>\n",
       "      <th>c</th>\n",
       "    </tr>\n",
       "  </thead>\n",
       "  <tbody>\n",
       "    <tr>\n",
       "      <th>0</th>\n",
       "      <td>1.0</td>\n",
       "      <td>2</td>\n",
       "      <td>NaN</td>\n",
       "    </tr>\n",
       "    <tr>\n",
       "      <th>1</th>\n",
       "      <td>NaN</td>\n",
       "      <td>3</td>\n",
       "      <td>4.0</td>\n",
       "    </tr>\n",
       "  </tbody>\n",
       "</table>\n",
       "</div>"
      ],
      "text/plain": [
       "     a  b    c\n",
       "0  1.0  2  NaN\n",
       "1  NaN  3  4.0"
      ]
     },
     "execution_count": 9,
     "metadata": {
      "tags": []
     },
     "output_type": "execute_result"
    }
   ],
   "source": [
    "pd.DataFrame([{'a': 1, 'b': 2}, {'b': 3, 'c': 4}])"
   ]
  },
  {
   "cell_type": "code",
   "execution_count": 33,
   "metadata": {
    "colab": {
     "base_uri": "https://localhost:8080/",
     "height": 118
    },
    "colab_type": "code",
    "collapsed": true,
    "id": "vt8HwpTLvJJZ",
    "outputId": "af5c6f74-b627-4ca0-bebc-e827fdbf2ea6"
   },
   "outputs": [
    {
     "name": "stdout",
     "output_type": "stream",
     "text": [
      "California    3833\n",
      "Texas         8193\n",
      "New York      6511\n",
      "Florida       5560\n",
      "Ohio          1135\n",
      "dtype: int64\n"
     ]
    }
   ],
   "source": [
    "population_d = {'California': 3833, 'Texas': 8193, 'New York': 6511, 'Florida': 5560, 'Ohio': 1135}  \n",
    "population = pd.Series(population_d)\n",
    "print(population)"
   ]
  },
  {
   "cell_type": "code",
   "execution_count": 34,
   "metadata": {
    "colab": {},
    "colab_type": "code",
    "collapsed": true,
    "id": "QzxBV8n2vJJe"
   },
   "outputs": [
    {
     "name": "stdout",
     "output_type": "stream",
     "text": [
      "California    423967\n",
      "Texas         695662\n",
      "New York      141297\n",
      "Florida       170312\n",
      "Ohio          149995\n",
      "dtype: int64\n"
     ]
    }
   ],
   "source": [
    "area_d = {'California': 423967, 'Texas': 695662, 'New York': 141297,   \n",
    "             'Florida': 170312, 'Ohio': 149995}\n",
    "area = pd.Series(area_d) \n",
    "print(area)"
   ]
  },
  {
   "cell_type": "code",
   "execution_count": 35,
   "metadata": {
    "colab": {},
    "colab_type": "code",
    "collapsed": true,
    "id": "bAn-SfuUvJJi"
   },
   "outputs": [
    {
     "name": "stdout",
     "output_type": "stream",
     "text": [
      "            population    area\n",
      "California        3833  423967\n",
      "Texas             8193  695662\n",
      "New York          6511  141297\n",
      "Florida           5560  170312\n",
      "Ohio              1135  149995\n",
      "\n",
      " Index(['California', 'Texas', 'New York', 'Florida', 'Ohio'], dtype='object')\n",
      "\n",
      " Index(['population', 'area'], dtype='object')\n",
      "California    423967\n",
      "Texas         695662\n",
      "New York      141297\n",
      "Florida       170312\n",
      "Ohio          149995\n",
      "Name: area, dtype: int64\n",
      "California    423967\n",
      "Texas         695662\n",
      "New York      141297\n",
      "Florida       170312\n",
      "Ohio          149995\n",
      "Name: area, dtype: int64\n",
      "True\n"
     ]
    }
   ],
   "source": [
    "states = pd.DataFrame({'population': population,  'area': area})\n",
    "print(states)\n",
    "print('\\n', states.index)\n",
    "print('\\n', states.columns)\n",
    "print(states['area'])\n",
    "print(states.area)\n",
    "print(states.area is states['area'])"
   ]
  },
  {
   "cell_type": "code",
   "execution_count": 2,
   "metadata": {
    "colab": {},
    "colab_type": "code",
    "id": "K7_yHzcdvJJu",
    "outputId": "ebc4024a-6ead-4006-be22-8a1a1cca024a"
   },
   "outputs": [
    {
     "data": {
      "text/plain": [
       "array([[-0.68275101,  1.2364251 ,  1.718707  ,  1.09286882],\n",
       "       [ 2.2887263 , -0.18756687,  0.1449395 , -1.57203608],\n",
       "       [-1.52607439,  0.84389585,  1.76900056, -0.01454395],\n",
       "       [-0.24141241,  1.03873608,  0.13135728,  1.40423229],\n",
       "       [-1.24861485,  0.09461122, -0.77540976,  0.91738519],\n",
       "       [-0.5155085 ,  0.3374779 ,  1.73147745,  0.75360304]])"
      ]
     },
     "execution_count": 2,
     "metadata": {},
     "output_type": "execute_result"
    }
   ],
   "source": [
    "num_arr = np.random.randn(6,4) #Import numpy random arrays\n",
    "num_arr "
   ]
  },
  {
   "cell_type": "code",
   "execution_count": 5,
   "metadata": {
    "colab": {},
    "colab_type": "code",
    "collapsed": true,
    "id": "jP0B0rDRvJJy",
    "outputId": "0005fd3f-c2ff-4691-a274-37f7f6f3e904"
   },
   "outputs": [
    {
     "data": {
      "text/html": [
       "<div>\n",
       "<style scoped>\n",
       "    .dataframe tbody tr th:only-of-type {\n",
       "        vertical-align: middle;\n",
       "    }\n",
       "\n",
       "    .dataframe tbody tr th {\n",
       "        vertical-align: top;\n",
       "    }\n",
       "\n",
       "    .dataframe thead th {\n",
       "        text-align: right;\n",
       "    }\n",
       "</style>\n",
       "<table border=\"1\" class=\"dataframe\">\n",
       "  <thead>\n",
       "    <tr style=\"text-align: right;\">\n",
       "      <th></th>\n",
       "      <th>A</th>\n",
       "      <th>B</th>\n",
       "      <th>C</th>\n",
       "      <th>D</th>\n",
       "    </tr>\n",
       "  </thead>\n",
       "  <tbody>\n",
       "    <tr>\n",
       "      <th>0</th>\n",
       "      <td>-0.682751</td>\n",
       "      <td>1.236425</td>\n",
       "      <td>1.718707</td>\n",
       "      <td>1.092869</td>\n",
       "    </tr>\n",
       "    <tr>\n",
       "      <th>1</th>\n",
       "      <td>2.288726</td>\n",
       "      <td>-0.187567</td>\n",
       "      <td>0.144940</td>\n",
       "      <td>-1.572036</td>\n",
       "    </tr>\n",
       "    <tr>\n",
       "      <th>2</th>\n",
       "      <td>-1.526074</td>\n",
       "      <td>0.843896</td>\n",
       "      <td>1.769001</td>\n",
       "      <td>-0.014544</td>\n",
       "    </tr>\n",
       "    <tr>\n",
       "      <th>3</th>\n",
       "      <td>-0.241412</td>\n",
       "      <td>1.038736</td>\n",
       "      <td>0.131357</td>\n",
       "      <td>1.404232</td>\n",
       "    </tr>\n",
       "    <tr>\n",
       "      <th>4</th>\n",
       "      <td>-1.248615</td>\n",
       "      <td>0.094611</td>\n",
       "      <td>-0.775410</td>\n",
       "      <td>0.917385</td>\n",
       "    </tr>\n",
       "    <tr>\n",
       "      <th>5</th>\n",
       "      <td>-0.515508</td>\n",
       "      <td>0.337478</td>\n",
       "      <td>1.731477</td>\n",
       "      <td>0.753603</td>\n",
       "    </tr>\n",
       "  </tbody>\n",
       "</table>\n",
       "</div>"
      ],
      "text/plain": [
       "          A         B         C         D\n",
       "0 -0.682751  1.236425  1.718707  1.092869\n",
       "1  2.288726 -0.187567  0.144940 -1.572036\n",
       "2 -1.526074  0.843896  1.769001 -0.014544\n",
       "3 -0.241412  1.038736  0.131357  1.404232\n",
       "4 -1.248615  0.094611 -0.775410  0.917385\n",
       "5 -0.515508  0.337478  1.731477  0.753603"
      ]
     },
     "execution_count": 5,
     "metadata": {},
     "output_type": "execute_result"
    }
   ],
   "source": [
    "columns=['A','B','C','D']\n",
    "df1=pd.DataFrame(num_arr,columns=columns)\n",
    "df1"
   ]
  },
  {
   "cell_type": "markdown",
   "metadata": {
    "colab_type": "text",
    "id": "pWtpNM4ovJJ3"
   },
   "source": [
    "##### DataFrame as a specialized Dictionary  \n",
    "- DataFrame maps a column name to a Series of column data."
   ]
  },
  {
   "cell_type": "code",
   "execution_count": 40,
   "metadata": {
    "colab": {},
    "colab_type": "code",
    "collapsed": true,
    "id": "B7mSiXP9vJJ4",
    "outputId": "c8a61f15-14b2-4282-c1ab-4faa95f7b9a0"
   },
   "outputs": [
    {
     "name": "stdout",
     "output_type": "stream",
     "text": [
      "            population    area\n",
      "California        3833  423967\n",
      "Texas             8193  695662\n",
      "New York          6511  141297\n",
      "Florida           5560  170312\n",
      "Ohio              1135  149995\n",
      "California    423967\n",
      "Texas         695662\n",
      "New York      141297\n",
      "Florida       170312\n",
      "Ohio          149995\n",
      "Name: area, dtype: int64\n"
     ]
    }
   ],
   "source": [
    "print(states)\n",
    "print(states['area'])"
   ]
  },
  {
   "cell_type": "code",
   "execution_count": 41,
   "metadata": {
    "colab": {},
    "colab_type": "code",
    "collapsed": true,
    "id": "4gpG63PlvJJ9",
    "outputId": "0c9f79b2-ed63-43d7-ac8f-9673e150246b"
   },
   "outputs": [
    {
     "data": {
      "text/html": [
       "<div>\n",
       "<style scoped>\n",
       "    .dataframe tbody tr th:only-of-type {\n",
       "        vertical-align: middle;\n",
       "    }\n",
       "\n",
       "    .dataframe tbody tr th {\n",
       "        vertical-align: top;\n",
       "    }\n",
       "\n",
       "    .dataframe thead th {\n",
       "        text-align: right;\n",
       "    }\n",
       "</style>\n",
       "<table border=\"1\" class=\"dataframe\">\n",
       "  <thead>\n",
       "    <tr style=\"text-align: right;\">\n",
       "      <th></th>\n",
       "      <th>a</th>\n",
       "      <th>b</th>\n",
       "    </tr>\n",
       "  </thead>\n",
       "  <tbody>\n",
       "    <tr>\n",
       "      <th>0</th>\n",
       "      <td>0</td>\n",
       "      <td>0</td>\n",
       "    </tr>\n",
       "    <tr>\n",
       "      <th>1</th>\n",
       "      <td>1</td>\n",
       "      <td>2</td>\n",
       "    </tr>\n",
       "    <tr>\n",
       "      <th>2</th>\n",
       "      <td>2</td>\n",
       "      <td>4</td>\n",
       "    </tr>\n",
       "  </tbody>\n",
       "</table>\n",
       "</div>"
      ],
      "text/plain": [
       "   a  b\n",
       "0  0  0\n",
       "1  1  2\n",
       "2  2  4"
      ]
     },
     "execution_count": 41,
     "metadata": {},
     "output_type": "execute_result"
    }
   ],
   "source": [
    "data = [{'a': i, 'b': 2 * i} \n",
    "        for i in range(3)]\n",
    "pd.DataFrame(data)"
   ]
  },
  {
   "cell_type": "code",
   "execution_count": 42,
   "metadata": {
    "colab": {},
    "colab_type": "code",
    "collapsed": true,
    "id": "xPUWd8B0vJKD"
   },
   "outputs": [
    {
     "data": {
      "text/html": [
       "<div>\n",
       "<style scoped>\n",
       "    .dataframe tbody tr th:only-of-type {\n",
       "        vertical-align: middle;\n",
       "    }\n",
       "\n",
       "    .dataframe tbody tr th {\n",
       "        vertical-align: top;\n",
       "    }\n",
       "\n",
       "    .dataframe thead th {\n",
       "        text-align: right;\n",
       "    }\n",
       "</style>\n",
       "<table border=\"1\" class=\"dataframe\">\n",
       "  <thead>\n",
       "    <tr style=\"text-align: right;\">\n",
       "      <th></th>\n",
       "      <th>a</th>\n",
       "      <th>b</th>\n",
       "      <th>c</th>\n",
       "    </tr>\n",
       "  </thead>\n",
       "  <tbody>\n",
       "    <tr>\n",
       "      <th>0</th>\n",
       "      <td>1.0</td>\n",
       "      <td>2</td>\n",
       "      <td>NaN</td>\n",
       "    </tr>\n",
       "    <tr>\n",
       "      <th>1</th>\n",
       "      <td>NaN</td>\n",
       "      <td>3</td>\n",
       "      <td>4.0</td>\n",
       "    </tr>\n",
       "  </tbody>\n",
       "</table>\n",
       "</div>"
      ],
      "text/plain": [
       "     a  b    c\n",
       "0  1.0  2  NaN\n",
       "1  NaN  3  4.0"
      ]
     },
     "execution_count": 42,
     "metadata": {},
     "output_type": "execute_result"
    }
   ],
   "source": [
    "pd.DataFrame([{'a': 1, 'b': 2}, {'b': 3, 'c': 4}])"
   ]
  },
  {
   "cell_type": "markdown",
   "metadata": {},
   "source": [
    "## Handling missing data"
   ]
  },
  {
   "cell_type": "code",
   "execution_count": 45,
   "metadata": {
    "collapsed": true
   },
   "outputs": [
    {
     "name": "stdout",
     "output_type": "stream",
     "text": [
      "[1 None 3 4]\n"
     ]
    },
    {
     "ename": "TypeError",
     "evalue": "unsupported operand type(s) for +: 'int' and 'NoneType'",
     "output_type": "error",
     "traceback": [
      "\u001b[1;31m---------------------------------------------------------------------------\u001b[0m",
      "\u001b[1;31mTypeError\u001b[0m                                 Traceback (most recent call last)",
      "\u001b[1;32m<ipython-input-45-8449418766b5>\u001b[0m in \u001b[0;36m<module>\u001b[1;34m\u001b[0m\n\u001b[0;32m      1\u001b[0m \u001b[0mvals1\u001b[0m \u001b[1;33m=\u001b[0m \u001b[0mnp\u001b[0m\u001b[1;33m.\u001b[0m\u001b[0marray\u001b[0m\u001b[1;33m(\u001b[0m\u001b[1;33m[\u001b[0m\u001b[1;36m1\u001b[0m\u001b[1;33m,\u001b[0m \u001b[1;32mNone\u001b[0m\u001b[1;33m,\u001b[0m \u001b[1;36m3\u001b[0m\u001b[1;33m,\u001b[0m \u001b[1;36m4\u001b[0m\u001b[1;33m]\u001b[0m\u001b[1;33m)\u001b[0m\u001b[1;33m\u001b[0m\u001b[1;33m\u001b[0m\u001b[0m\n\u001b[0;32m      2\u001b[0m \u001b[0mprint\u001b[0m\u001b[1;33m(\u001b[0m\u001b[0mvals1\u001b[0m\u001b[1;33m)\u001b[0m\u001b[1;33m\u001b[0m\u001b[1;33m\u001b[0m\u001b[0m\n\u001b[1;32m----> 3\u001b[1;33m \u001b[0mprint\u001b[0m\u001b[1;33m(\u001b[0m\u001b[0mvals1\u001b[0m\u001b[1;33m.\u001b[0m\u001b[0msum\u001b[0m\u001b[1;33m(\u001b[0m\u001b[1;33m)\u001b[0m\u001b[1;33m)\u001b[0m\u001b[1;33m\u001b[0m\u001b[1;33m\u001b[0m\u001b[0m\n\u001b[0m",
      "\u001b[1;32mE:\\Anaconda\\lib\\site-packages\\numpy\\core\\_methods.py\u001b[0m in \u001b[0;36m_sum\u001b[1;34m(a, axis, dtype, out, keepdims, initial)\u001b[0m\n\u001b[0;32m     34\u001b[0m def _sum(a, axis=None, dtype=None, out=None, keepdims=False,\n\u001b[0;32m     35\u001b[0m          initial=_NoValue):\n\u001b[1;32m---> 36\u001b[1;33m     \u001b[1;32mreturn\u001b[0m \u001b[0mumr_sum\u001b[0m\u001b[1;33m(\u001b[0m\u001b[0ma\u001b[0m\u001b[1;33m,\u001b[0m \u001b[0maxis\u001b[0m\u001b[1;33m,\u001b[0m \u001b[0mdtype\u001b[0m\u001b[1;33m,\u001b[0m \u001b[0mout\u001b[0m\u001b[1;33m,\u001b[0m \u001b[0mkeepdims\u001b[0m\u001b[1;33m,\u001b[0m \u001b[0minitial\u001b[0m\u001b[1;33m)\u001b[0m\u001b[1;33m\u001b[0m\u001b[1;33m\u001b[0m\u001b[0m\n\u001b[0m\u001b[0;32m     37\u001b[0m \u001b[1;33m\u001b[0m\u001b[0m\n\u001b[0;32m     38\u001b[0m def _prod(a, axis=None, dtype=None, out=None, keepdims=False,\n",
      "\u001b[1;31mTypeError\u001b[0m: unsupported operand type(s) for +: 'int' and 'NoneType'"
     ]
    }
   ],
   "source": [
    "vals1 = np.array([1, None, 3, 4])      \n",
    "print(vals1)\n",
    "print(vals1.sum())"
   ]
  },
  {
   "cell_type": "markdown",
   "metadata": {},
   "source": [
    "### NaN: Missing numerical data"
   ]
  },
  {
   "cell_type": "code",
   "execution_count": 47,
   "metadata": {
    "collapsed": true
   },
   "outputs": [
    {
     "name": "stdout",
     "output_type": "stream",
     "text": [
      "nan\n",
      "nan\n"
     ]
    }
   ],
   "source": [
    "#NaN is a bit like a data virus—it infects any other object it touches.\n",
    "print(1 + np.nan)\n",
    "print(0 *  np.nan)"
   ]
  },
  {
   "cell_type": "code",
   "execution_count": 46,
   "metadata": {
    "collapsed": true
   },
   "outputs": [
    {
     "data": {
      "text/plain": [
       "dtype('float64')"
      ]
     },
     "execution_count": 46,
     "metadata": {},
     "output_type": "execute_result"
    }
   ],
   "source": [
    "vals2 = np.array([1, np.nan, 3, 4])\n",
    "vals2.dtype"
   ]
  },
  {
   "cell_type": "code",
   "execution_count": 49,
   "metadata": {
    "collapsed": true
   },
   "outputs": [
    {
     "name": "stdout",
     "output_type": "stream",
     "text": [
      "nan nan nan\n",
      "8.0 1.0 4.0\n"
     ]
    }
   ],
   "source": [
    "print(vals2.sum(), vals2.min(), vals2.max())\n",
    "print(np.nansum(vals2) ,np.nanmin(vals2), np.nanmax(vals2))"
   ]
  },
  {
   "cell_type": "markdown",
   "metadata": {},
   "source": [
    "### NaN and None in Pandas"
   ]
  },
  {
   "cell_type": "code",
   "execution_count": 50,
   "metadata": {
    "collapsed": true
   },
   "outputs": [
    {
     "name": "stdout",
     "output_type": "stream",
     "text": [
      "0    1.0\n",
      "1    NaN\n",
      "2    2.0\n",
      "3    NaN\n",
      "dtype: float64\n",
      "0    0\n",
      "1    1\n",
      "dtype: int32\n",
      "0    NaN\n",
      "1    1.0\n",
      "dtype: float64\n"
     ]
    }
   ],
   "source": [
    "print(pd.Series([1, np.nan, 2, None]))\n",
    "ser_null = pd.Series(range(2), dtype=int)\n",
    "print(ser_null)\n",
    "ser_null[0] = None \n",
    "print(ser_null)\n",
    "#casting the integer array to floating point, Pandas automatically converts the None to a NaN value."
   ]
  },
  {
   "cell_type": "code",
   "execution_count": 52,
   "metadata": {
    "collapsed": true
   },
   "outputs": [
    {
     "name": "stdout",
     "output_type": "stream",
     "text": [
      "0        1\n",
      "1      NaN\n",
      "2    hello\n",
      "3     None\n",
      "dtype: object\n",
      "0    False\n",
      "1     True\n",
      "2    False\n",
      "3     True\n",
      "dtype: bool\n",
      "0        1\n",
      "2    hello\n",
      "dtype: object\n"
     ]
    }
   ],
   "source": [
    "#Detecting null values\n",
    "data = pd.Series([1, np.nan, 'hello', None])\n",
    "print(data)\n",
    "print(data.isnull())\n",
    "print(data[data.notnull()])"
   ]
  },
  {
   "cell_type": "code",
   "execution_count": 53,
   "metadata": {
    "collapsed": true
   },
   "outputs": [
    {
     "name": "stdout",
     "output_type": "stream",
     "text": [
      "0        1\n",
      "2    hello\n",
      "dtype: object\n"
     ]
    },
    {
     "data": {
      "text/html": [
       "<div>\n",
       "<style scoped>\n",
       "    .dataframe tbody tr th:only-of-type {\n",
       "        vertical-align: middle;\n",
       "    }\n",
       "\n",
       "    .dataframe tbody tr th {\n",
       "        vertical-align: top;\n",
       "    }\n",
       "\n",
       "    .dataframe thead th {\n",
       "        text-align: right;\n",
       "    }\n",
       "</style>\n",
       "<table border=\"1\" class=\"dataframe\">\n",
       "  <thead>\n",
       "    <tr style=\"text-align: right;\">\n",
       "      <th></th>\n",
       "      <th>0</th>\n",
       "      <th>1</th>\n",
       "      <th>2</th>\n",
       "      <th>3</th>\n",
       "    </tr>\n",
       "  </thead>\n",
       "  <tbody>\n",
       "    <tr>\n",
       "      <th>1</th>\n",
       "      <td>2.0</td>\n",
       "      <td>3.0</td>\n",
       "      <td>5</td>\n",
       "      <td>NaN</td>\n",
       "    </tr>\n",
       "  </tbody>\n",
       "</table>\n",
       "</div>"
      ],
      "text/plain": [
       "     0    1  2   3\n",
       "1  2.0  3.0  5 NaN"
      ]
     },
     "execution_count": 53,
     "metadata": {},
     "output_type": "execute_result"
    }
   ],
   "source": [
    "#Dropping null values\n",
    "print(data.dropna())"
   ]
  },
  {
   "cell_type": "markdown",
   "metadata": {},
   "source": [
    "- This might drop good data, then we specify how or thresh parameters\n",
    "- For finer-grained control, the thresh parameter specifies a min no. of non-null values for the row/column to be kept"
   ]
  },
  {
   "cell_type": "code",
   "execution_count": null,
   "metadata": {},
   "outputs": [],
   "source": [
    "df.dropna(axis='rows', thresh=3)"
   ]
  },
  {
   "cell_type": "code",
   "execution_count": 60,
   "metadata": {
    "collapsed": true
   },
   "outputs": [
    {
     "name": "stdout",
     "output_type": "stream",
     "text": [
      "     0    1  2\n",
      "0  1.0  NaN  2\n",
      "1  2.0  3.0  5\n",
      "2  NaN  4.0  6\n",
      "     0    1  2\n",
      "1  2.0  3.0  5\n",
      "   2\n",
      "0  2\n",
      "1  5\n",
      "2  6\n"
     ]
    },
    {
     "data": {
      "text/html": [
       "<div>\n",
       "<style scoped>\n",
       "    .dataframe tbody tr th:only-of-type {\n",
       "        vertical-align: middle;\n",
       "    }\n",
       "\n",
       "    .dataframe tbody tr th {\n",
       "        vertical-align: top;\n",
       "    }\n",
       "\n",
       "    .dataframe thead th {\n",
       "        text-align: right;\n",
       "    }\n",
       "</style>\n",
       "<table border=\"1\" class=\"dataframe\">\n",
       "  <thead>\n",
       "    <tr style=\"text-align: right;\">\n",
       "      <th></th>\n",
       "      <th>0</th>\n",
       "      <th>1</th>\n",
       "      <th>2</th>\n",
       "    </tr>\n",
       "  </thead>\n",
       "  <tbody>\n",
       "    <tr>\n",
       "      <th>1</th>\n",
       "      <td>2.0</td>\n",
       "      <td>3.0</td>\n",
       "      <td>5</td>\n",
       "    </tr>\n",
       "  </tbody>\n",
       "</table>\n",
       "</div>"
      ],
      "text/plain": [
       "     0    1  2\n",
       "1  2.0  3.0  5"
      ]
     },
     "execution_count": 60,
     "metadata": {},
     "output_type": "execute_result"
    }
   ],
   "source": [
    "df = pd.DataFrame([[1,      np.nan, 2],    \n",
    "                   [2,      3,      5],     \n",
    "                   [np.nan, 4,      6]])  \n",
    "print(df)\n",
    "print(df.dropna())\n",
    "print(df.dropna(axis='columns'))\n",
    "df.dropna(axis='rows', thresh=3)"
   ]
  },
  {
   "cell_type": "code",
   "execution_count": 58,
   "metadata": {
    "collapsed": true
   },
   "outputs": [
    {
     "name": "stdout",
     "output_type": "stream",
     "text": [
      "     0    1  2   3\n",
      "0  1.0  NaN  2 NaN\n",
      "1  2.0  3.0  5 NaN\n",
      "2  NaN  4.0  6 NaN\n"
     ]
    }
   ],
   "source": [
    "df[3] = np.nan\n",
    "print(df)\n",
    "df.dropna(axis='columns', how='all')"
   ]
  },
  {
   "cell_type": "code",
   "execution_count": 63,
   "metadata": {
    "collapsed": true
   },
   "outputs": [
    {
     "name": "stdout",
     "output_type": "stream",
     "text": [
      "a    1.0\n",
      "b    NaN\n",
      "c    2.0\n",
      "d    NaN\n",
      "e    3.0\n",
      "dtype: float64\n",
      "a    1.0\n",
      "b    0.0\n",
      "c    2.0\n",
      "d    0.0\n",
      "e    3.0\n",
      "dtype: float64\n",
      "a    1.0\n",
      "b    1.0\n",
      "c    2.0\n",
      "d    2.0\n",
      "e    3.0\n",
      "dtype: float64\n",
      "a    1.0\n",
      "b    2.0\n",
      "c    2.0\n",
      "d    3.0\n",
      "e    3.0\n",
      "dtype: float64\n"
     ]
    }
   ],
   "source": [
    "# Filling null values\n",
    "data = pd.Series([1, np.nan, 2, None, 3], index=list('abcde'))   \n",
    "print(data)\n",
    "print(data.fillna(0))\n",
    "print(data.fillna(method='ffill'))\n",
    "print(data.fillna(method='bfill'))"
   ]
  },
  {
   "cell_type": "code",
   "execution_count": 64,
   "metadata": {
    "collapsed": true
   },
   "outputs": [
    {
     "name": "stdout",
     "output_type": "stream",
     "text": [
      "     0    1  2\n",
      "0  1.0  NaN  2\n",
      "1  2.0  3.0  5\n",
      "2  NaN  4.0  6\n",
      "     0    1    2\n",
      "0  1.0  1.0  2.0\n",
      "1  2.0  3.0  5.0\n",
      "2  NaN  4.0  6.0\n"
     ]
    }
   ],
   "source": [
    "print(df)\n",
    "print(df.fillna(method='ffill', axis=1))"
   ]
  },
  {
   "cell_type": "code",
   "execution_count": 21,
   "metadata": {
    "colab": {},
    "colab_type": "code",
    "collapsed": true,
    "id": "sW8ZEN-LvJKL",
    "outputId": "747cb197-4611-4548-f447-2c394c94f6d5"
   },
   "outputs": [
    {
     "data": {
      "text/html": [
       "<div>\n",
       "<style scoped>\n",
       "    .dataframe tbody tr th:only-of-type {\n",
       "        vertical-align: middle;\n",
       "    }\n",
       "\n",
       "    .dataframe tbody tr th {\n",
       "        vertical-align: top;\n",
       "    }\n",
       "\n",
       "    .dataframe thead th {\n",
       "        text-align: right;\n",
       "    }\n",
       "</style>\n",
       "<table border=\"1\" class=\"dataframe\">\n",
       "  <thead>\n",
       "    <tr style=\"text-align: right;\">\n",
       "      <th></th>\n",
       "      <th>animals</th>\n",
       "      <th>age</th>\n",
       "      <th>visits</th>\n",
       "      <th>priority</th>\n",
       "    </tr>\n",
       "  </thead>\n",
       "  <tbody>\n",
       "    <tr>\n",
       "      <th>a</th>\n",
       "      <td>cat</td>\n",
       "      <td>2.5</td>\n",
       "      <td>1</td>\n",
       "      <td>y</td>\n",
       "    </tr>\n",
       "    <tr>\n",
       "      <th>b</th>\n",
       "      <td>cat</td>\n",
       "      <td>3.0</td>\n",
       "      <td>3</td>\n",
       "      <td>y</td>\n",
       "    </tr>\n",
       "    <tr>\n",
       "      <th>c</th>\n",
       "      <td>turtle</td>\n",
       "      <td>0.5</td>\n",
       "      <td>2</td>\n",
       "      <td>n</td>\n",
       "    </tr>\n",
       "    <tr>\n",
       "      <th>d</th>\n",
       "      <td>dog</td>\n",
       "      <td>NaN</td>\n",
       "      <td>3</td>\n",
       "      <td>y</td>\n",
       "    </tr>\n",
       "    <tr>\n",
       "      <th>e</th>\n",
       "      <td>dog</td>\n",
       "      <td>5.0</td>\n",
       "      <td>2</td>\n",
       "      <td>n</td>\n",
       "    </tr>\n",
       "    <tr>\n",
       "      <th>f</th>\n",
       "      <td>cat</td>\n",
       "      <td>2.0</td>\n",
       "      <td>3</td>\n",
       "      <td>n</td>\n",
       "    </tr>\n",
       "    <tr>\n",
       "      <th>g</th>\n",
       "      <td>turtle</td>\n",
       "      <td>4.5</td>\n",
       "      <td>1</td>\n",
       "      <td>n</td>\n",
       "    </tr>\n",
       "    <tr>\n",
       "      <th>h</th>\n",
       "      <td>cat</td>\n",
       "      <td>NaN</td>\n",
       "      <td>1</td>\n",
       "      <td>y</td>\n",
       "    </tr>\n",
       "    <tr>\n",
       "      <th>i</th>\n",
       "      <td>dog</td>\n",
       "      <td>7.0</td>\n",
       "      <td>2</td>\n",
       "      <td>n</td>\n",
       "    </tr>\n",
       "    <tr>\n",
       "      <th>j</th>\n",
       "      <td>dog</td>\n",
       "      <td>3.0</td>\n",
       "      <td>1</td>\n",
       "      <td>n</td>\n",
       "    </tr>\n",
       "  </tbody>\n",
       "</table>\n",
       "</div>"
      ],
      "text/plain": [
       "  animals  age  visits priority\n",
       "a     cat  2.5       1        y\n",
       "b     cat  3.0       3        y\n",
       "c  turtle  0.5       2        n\n",
       "d     dog  NaN       3        y\n",
       "e     dog  5.0       2        n\n",
       "f     cat  2.0       3        n\n",
       "g  turtle  4.5       1        n\n",
       "h     cat  NaN       1        y\n",
       "i     dog  7.0       2        n\n",
       "j     dog  3.0       1        n"
      ]
     },
     "execution_count": 21,
     "metadata": {},
     "output_type": "execute_result"
    }
   ],
   "source": [
    "#Create dataframe with dictionary\n",
    "data={'animals':['cat','cat','turtle','dog','dog','cat','turtle','cat','dog','dog'],\n",
    "           'age':[2.5,3,0.5,np.nan,5,2,4.5,np.nan,7,3], \n",
    "           'visits':[1,3,2,3,2,3,1,1,2,1], \n",
    "           'priority':['y','y','n','y','n','n','n','y','n','n']}\n",
    "labels=['a','b','c','d','e','f','g','h','i','j']\n",
    "df2=pd.DataFrame(data,index=labels)\n",
    "df2"
   ]
  },
  {
   "cell_type": "code",
   "execution_count": 26,
   "metadata": {
    "collapsed": true
   },
   "outputs": [
    {
     "name": "stderr",
     "output_type": "stream",
     "text": [
      "E:\\Anaconda\\lib\\site-packages\\ipykernel_launcher.py:1: DeprecationWarning: \n",
      ".ix is deprecated. Please use\n",
      ".loc for label based indexing or\n",
      ".iloc for positional indexing\n",
      "\n",
      "See the documentation here:\n",
      "http://pandas.pydata.org/pandas-docs/stable/indexing.html#ix-indexer-is-deprecated\n",
      "  \"\"\"Entry point for launching an IPython kernel.\n"
     ]
    },
    {
     "data": {
      "text/html": [
       "<div>\n",
       "<style scoped>\n",
       "    .dataframe tbody tr th:only-of-type {\n",
       "        vertical-align: middle;\n",
       "    }\n",
       "\n",
       "    .dataframe tbody tr th {\n",
       "        vertical-align: top;\n",
       "    }\n",
       "\n",
       "    .dataframe thead th {\n",
       "        text-align: right;\n",
       "    }\n",
       "</style>\n",
       "<table border=\"1\" class=\"dataframe\">\n",
       "  <thead>\n",
       "    <tr style=\"text-align: right;\">\n",
       "      <th></th>\n",
       "      <th>animals</th>\n",
       "      <th>age</th>\n",
       "      <th>visits</th>\n",
       "    </tr>\n",
       "  </thead>\n",
       "  <tbody>\n",
       "    <tr>\n",
       "      <th>a</th>\n",
       "      <td>cat</td>\n",
       "      <td>2.5</td>\n",
       "      <td>1</td>\n",
       "    </tr>\n",
       "    <tr>\n",
       "      <th>b</th>\n",
       "      <td>cat</td>\n",
       "      <td>3.0</td>\n",
       "      <td>3</td>\n",
       "    </tr>\n",
       "    <tr>\n",
       "      <th>c</th>\n",
       "      <td>turtle</td>\n",
       "      <td>0.5</td>\n",
       "      <td>2</td>\n",
       "    </tr>\n",
       "    <tr>\n",
       "      <th>d</th>\n",
       "      <td>dog</td>\n",
       "      <td>NaN</td>\n",
       "      <td>3</td>\n",
       "    </tr>\n",
       "    <tr>\n",
       "      <th>e</th>\n",
       "      <td>dog</td>\n",
       "      <td>5.0</td>\n",
       "      <td>2</td>\n",
       "    </tr>\n",
       "  </tbody>\n",
       "</table>\n",
       "</div>"
      ],
      "text/plain": [
       "  animals  age  visits\n",
       "a     cat  2.5       1\n",
       "b     cat  3.0       3\n",
       "c  turtle  0.5       2\n",
       "d     dog  NaN       3\n",
       "e     dog  5.0       2"
      ]
     },
     "execution_count": 26,
     "metadata": {},
     "output_type": "execute_result"
    }
   ],
   "source": [
    "df2.ix[:5, 'animals':'visits']"
   ]
  },
  {
   "cell_type": "code",
   "execution_count": 0,
   "metadata": {
    "colab": {},
    "colab_type": "code",
    "collapsed": true,
    "id": "YXUyUDRdvJKR",
    "outputId": "afead160-8d6f-4ab6-96ef-f77ac89b4383"
   },
   "outputs": [
    {
     "data": {
      "text/plain": [
       "animals      object\n",
       "age         float64\n",
       "visits        int64\n",
       "priority     object\n",
       "dtype: object"
      ]
     },
     "execution_count": 51,
     "metadata": {
      "tags": []
     },
     "output_type": "execute_result"
    }
   ],
   "source": [
    "#Datatypes of array\n",
    "df2.dtypes"
   ]
  },
  {
   "cell_type": "code",
   "execution_count": 0,
   "metadata": {
    "colab": {},
    "colab_type": "code",
    "collapsed": true,
    "id": "uZP7wyTuvJKW",
    "outputId": "3cdec93e-f2d2-4311-e935-30a065d7b5f0"
   },
   "outputs": [
    {
     "data": {
      "text/html": [
       "<div>\n",
       "<style scoped>\n",
       "    .dataframe tbody tr th:only-of-type {\n",
       "        vertical-align: middle;\n",
       "    }\n",
       "\n",
       "    .dataframe tbody tr th {\n",
       "        vertical-align: top;\n",
       "    }\n",
       "\n",
       "    .dataframe thead th {\n",
       "        text-align: right;\n",
       "    }\n",
       "</style>\n",
       "<table border=\"1\" class=\"dataframe\">\n",
       "  <thead>\n",
       "    <tr style=\"text-align: right;\">\n",
       "      <th></th>\n",
       "      <th>animals</th>\n",
       "      <th>age</th>\n",
       "      <th>visits</th>\n",
       "      <th>priority</th>\n",
       "    </tr>\n",
       "  </thead>\n",
       "  <tbody>\n",
       "    <tr>\n",
       "      <th>a</th>\n",
       "      <td>cat</td>\n",
       "      <td>2.5</td>\n",
       "      <td>1</td>\n",
       "      <td>y</td>\n",
       "    </tr>\n",
       "    <tr>\n",
       "      <th>b</th>\n",
       "      <td>cat</td>\n",
       "      <td>3.0</td>\n",
       "      <td>3</td>\n",
       "      <td>y</td>\n",
       "    </tr>\n",
       "    <tr>\n",
       "      <th>c</th>\n",
       "      <td>snake</td>\n",
       "      <td>0.5</td>\n",
       "      <td>2</td>\n",
       "      <td>n</td>\n",
       "    </tr>\n",
       "    <tr>\n",
       "      <th>d</th>\n",
       "      <td>dog</td>\n",
       "      <td>NaN</td>\n",
       "      <td>3</td>\n",
       "      <td>y</td>\n",
       "    </tr>\n",
       "    <tr>\n",
       "      <th>e</th>\n",
       "      <td>dog</td>\n",
       "      <td>5.0</td>\n",
       "      <td>2</td>\n",
       "      <td>n</td>\n",
       "    </tr>\n",
       "  </tbody>\n",
       "</table>\n",
       "</div>"
      ],
      "text/plain": [
       "  animals  age  visits priority\n",
       "a     cat  2.5       1        y\n",
       "b     cat  3.0       3        y\n",
       "c   snake  0.5       2        n\n",
       "d     dog  NaN       3        y\n",
       "e     dog  5.0       2        n"
      ]
     },
     "execution_count": 36,
     "metadata": {
      "tags": []
     },
     "output_type": "execute_result"
    }
   ],
   "source": [
    "df2.head()\n",
    "\n",
    "df3=df2.head(6)\n",
    "df3\n",
    "\n",
    "df2.tail(3)"
   ]
  },
  {
   "cell_type": "code",
   "execution_count": 0,
   "metadata": {
    "colab": {},
    "colab_type": "code",
    "collapsed": true,
    "id": "DdEDDbQlvJKt",
    "outputId": "b9f750a8-b35d-4b44-9487-ed74400b7931"
   },
   "outputs": [
    {
     "data": {
      "text/plain": [
       "Index(['a', 'b', 'c', 'd', 'e', 'f', 'g', 'h', 'i', 'j'], dtype='object')"
      ]
     },
     "execution_count": 37,
     "metadata": {
      "tags": []
     },
     "output_type": "execute_result"
    }
   ],
   "source": [
    "df2.index \n",
    "\n",
    "df2.columns\n",
    "\n",
    "df2.values #just an easy way to convert this all into a numpy array"
   ]
  },
  {
   "cell_type": "code",
   "execution_count": 25,
   "metadata": {
    "colab": {},
    "colab_type": "code",
    "collapsed": true,
    "id": "HUj-MMUKvJK6",
    "outputId": "540d3b52-1705-4b8f-c345-7a6d5f7fe9ad"
   },
   "outputs": [
    {
     "name": "stdout",
     "output_type": "stream",
     "text": [
      "<class 'pandas.core.frame.DataFrame'>\n",
      "Index: 5 entries, ECE to CS\n",
      "Data columns (total 1 columns):\n",
      "F_name    5 non-null object\n",
      "dtypes: object(1)\n",
      "memory usage: 240.0+ bytes\n"
     ]
    }
   ],
   "source": [
    "df2.describe() #statistical data of dataframe\n",
    "df2.info()"
   ]
  },
  {
   "cell_type": "code",
   "execution_count": 0,
   "metadata": {
    "colab": {},
    "colab_type": "code",
    "collapsed": true,
    "id": "BxX6ZlRFvJK_",
    "outputId": "20c623a3-3f59-4f32-dc09-90e1c649b58a"
   },
   "outputs": [
    {
     "data": {
      "text/html": [
       "<div>\n",
       "<style scoped>\n",
       "    .dataframe tbody tr th:only-of-type {\n",
       "        vertical-align: middle;\n",
       "    }\n",
       "\n",
       "    .dataframe tbody tr th {\n",
       "        vertical-align: top;\n",
       "    }\n",
       "\n",
       "    .dataframe thead th {\n",
       "        text-align: right;\n",
       "    }\n",
       "</style>\n",
       "<table border=\"1\" class=\"dataframe\">\n",
       "  <thead>\n",
       "    <tr style=\"text-align: right;\">\n",
       "      <th></th>\n",
       "      <th>a</th>\n",
       "      <th>b</th>\n",
       "      <th>c</th>\n",
       "      <th>d</th>\n",
       "      <th>e</th>\n",
       "      <th>f</th>\n",
       "      <th>g</th>\n",
       "      <th>h</th>\n",
       "      <th>i</th>\n",
       "      <th>j</th>\n",
       "    </tr>\n",
       "  </thead>\n",
       "  <tbody>\n",
       "    <tr>\n",
       "      <th>animals</th>\n",
       "      <td>cat</td>\n",
       "      <td>cat</td>\n",
       "      <td>snake</td>\n",
       "      <td>dog</td>\n",
       "      <td>dog</td>\n",
       "      <td>cat</td>\n",
       "      <td>snake</td>\n",
       "      <td>cat</td>\n",
       "      <td>dog</td>\n",
       "      <td>dog</td>\n",
       "    </tr>\n",
       "    <tr>\n",
       "      <th>age</th>\n",
       "      <td>2.5</td>\n",
       "      <td>3</td>\n",
       "      <td>0.5</td>\n",
       "      <td>NaN</td>\n",
       "      <td>5</td>\n",
       "      <td>2</td>\n",
       "      <td>4.5</td>\n",
       "      <td>NaN</td>\n",
       "      <td>7</td>\n",
       "      <td>3</td>\n",
       "    </tr>\n",
       "    <tr>\n",
       "      <th>visits</th>\n",
       "      <td>1</td>\n",
       "      <td>3</td>\n",
       "      <td>2</td>\n",
       "      <td>3</td>\n",
       "      <td>2</td>\n",
       "      <td>3</td>\n",
       "      <td>1</td>\n",
       "      <td>1</td>\n",
       "      <td>2</td>\n",
       "      <td>1</td>\n",
       "    </tr>\n",
       "    <tr>\n",
       "      <th>priority</th>\n",
       "      <td>y</td>\n",
       "      <td>y</td>\n",
       "      <td>n</td>\n",
       "      <td>y</td>\n",
       "      <td>n</td>\n",
       "      <td>n</td>\n",
       "      <td>n</td>\n",
       "      <td>y</td>\n",
       "      <td>n</td>\n",
       "      <td>n</td>\n",
       "    </tr>\n",
       "  </tbody>\n",
       "</table>\n",
       "</div>"
      ],
      "text/plain": [
       "            a    b      c    d    e    f      g    h    i    j\n",
       "animals   cat  cat  snake  dog  dog  cat  snake  cat  dog  dog\n",
       "age       2.5    3    0.5  NaN    5    2    4.5  NaN    7    3\n",
       "visits      1    3      2    3    2    3      1    1    2    1\n",
       "priority    y    y      n    y    n    n      n    y    n    n"
      ]
     },
     "execution_count": 61,
     "metadata": {
      "tags": []
     },
     "output_type": "execute_result"
    }
   ],
   "source": [
    "df2.T #Transpose"
   ]
  },
  {
   "cell_type": "code",
   "execution_count": 68,
   "metadata": {
    "colab": {},
    "colab_type": "code",
    "collapsed": true,
    "id": "alFYvkQWvJLG",
    "outputId": "e500eb5c-cb27-4b83-8d53-45b178416650"
   },
   "outputs": [
    {
     "name": "stdout",
     "output_type": "stream",
     "text": [
      "  animals  age  visits priority\n",
      "c   snake  0.5       2        n\n",
      "f     cat  2.0       3        n\n",
      "a     cat  2.5       1        y\n",
      "b     cat  3.0       3        y\n",
      "j     dog  3.0       1        n\n",
      "g   snake  4.5       1        n\n",
      "e     dog  5.0       2        n\n",
      "i     dog  7.0       2        n\n",
      "d     dog  NaN       3        y\n",
      "h     cat  NaN       1        y\n"
     ]
    }
   ],
   "source": [
    "#print(df2.sort_values())\n",
    "print(df2.sort_values(by='age')) #default is ascending"
   ]
  },
  {
   "cell_type": "code",
   "execution_count": 0,
   "metadata": {
    "colab": {},
    "colab_type": "code",
    "collapsed": true,
    "id": "8peNRKeMvJLR",
    "outputId": "00a9eb52-3a82-4d56-8c74-ae3bb1cbfb2d"
   },
   "outputs": [
    {
     "data": {
      "text/html": [
       "<div>\n",
       "<style scoped>\n",
       "    .dataframe tbody tr th:only-of-type {\n",
       "        vertical-align: middle;\n",
       "    }\n",
       "\n",
       "    .dataframe tbody tr th {\n",
       "        vertical-align: top;\n",
       "    }\n",
       "\n",
       "    .dataframe thead th {\n",
       "        text-align: right;\n",
       "    }\n",
       "</style>\n",
       "<table border=\"1\" class=\"dataframe\">\n",
       "  <thead>\n",
       "    <tr style=\"text-align: right;\">\n",
       "      <th></th>\n",
       "      <th>animals</th>\n",
       "      <th>age</th>\n",
       "      <th>visits</th>\n",
       "      <th>priority</th>\n",
       "    </tr>\n",
       "  </thead>\n",
       "  <tbody>\n",
       "    <tr>\n",
       "      <th>f</th>\n",
       "      <td>cat</td>\n",
       "      <td>2.0</td>\n",
       "      <td>3</td>\n",
       "      <td>n</td>\n",
       "    </tr>\n",
       "    <tr>\n",
       "      <th>a</th>\n",
       "      <td>cat</td>\n",
       "      <td>2.5</td>\n",
       "      <td>1</td>\n",
       "      <td>y</td>\n",
       "    </tr>\n",
       "    <tr>\n",
       "      <th>b</th>\n",
       "      <td>cat</td>\n",
       "      <td>3.0</td>\n",
       "      <td>3</td>\n",
       "      <td>y</td>\n",
       "    </tr>\n",
       "  </tbody>\n",
       "</table>\n",
       "</div>"
      ],
      "text/plain": [
       "  animals  age  visits priority\n",
       "f     cat  2.0       3        n\n",
       "a     cat  2.5       1        y\n",
       "b     cat  3.0       3        y"
      ]
     },
     "execution_count": 64,
     "metadata": {
      "tags": []
     },
     "output_type": "execute_result"
    }
   ],
   "source": [
    "df2.sort_values(by='age')[1:4] # combining sorting and slicing"
   ]
  },
  {
   "cell_type": "code",
   "execution_count": 0,
   "metadata": {
    "colab": {},
    "colab_type": "code",
    "collapsed": true,
    "id": "TMchBXV9vJLZ",
    "outputId": "0534c344-78d3-4e3b-8a9c-a9e1b6f22d55"
   },
   "outputs": [
    {
     "data": {
      "text/html": [
       "<div>\n",
       "<style scoped>\n",
       "    .dataframe tbody tr th:only-of-type {\n",
       "        vertical-align: middle;\n",
       "    }\n",
       "\n",
       "    .dataframe tbody tr th {\n",
       "        vertical-align: top;\n",
       "    }\n",
       "\n",
       "    .dataframe thead th {\n",
       "        text-align: right;\n",
       "    }\n",
       "</style>\n",
       "<table border=\"1\" class=\"dataframe\">\n",
       "  <thead>\n",
       "    <tr style=\"text-align: right;\">\n",
       "      <th></th>\n",
       "      <th>age</th>\n",
       "      <th>visits</th>\n",
       "    </tr>\n",
       "  </thead>\n",
       "  <tbody>\n",
       "    <tr>\n",
       "      <th>a</th>\n",
       "      <td>2.5</td>\n",
       "      <td>1</td>\n",
       "    </tr>\n",
       "    <tr>\n",
       "      <th>b</th>\n",
       "      <td>3.0</td>\n",
       "      <td>3</td>\n",
       "    </tr>\n",
       "    <tr>\n",
       "      <th>c</th>\n",
       "      <td>0.5</td>\n",
       "      <td>2</td>\n",
       "    </tr>\n",
       "    <tr>\n",
       "      <th>d</th>\n",
       "      <td>NaN</td>\n",
       "      <td>3</td>\n",
       "    </tr>\n",
       "    <tr>\n",
       "      <th>e</th>\n",
       "      <td>5.0</td>\n",
       "      <td>2</td>\n",
       "    </tr>\n",
       "    <tr>\n",
       "      <th>f</th>\n",
       "      <td>2.0</td>\n",
       "      <td>3</td>\n",
       "    </tr>\n",
       "    <tr>\n",
       "      <th>g</th>\n",
       "      <td>4.5</td>\n",
       "      <td>1</td>\n",
       "    </tr>\n",
       "    <tr>\n",
       "      <th>h</th>\n",
       "      <td>NaN</td>\n",
       "      <td>1</td>\n",
       "    </tr>\n",
       "    <tr>\n",
       "      <th>i</th>\n",
       "      <td>7.0</td>\n",
       "      <td>2</td>\n",
       "    </tr>\n",
       "    <tr>\n",
       "      <th>j</th>\n",
       "      <td>3.0</td>\n",
       "      <td>1</td>\n",
       "    </tr>\n",
       "  </tbody>\n",
       "</table>\n",
       "</div>"
      ],
      "text/plain": [
       "   age  visits\n",
       "a  2.5       1\n",
       "b  3.0       3\n",
       "c  0.5       2\n",
       "d  NaN       3\n",
       "e  5.0       2\n",
       "f  2.0       3\n",
       "g  4.5       1\n",
       "h  NaN       1\n",
       "i  7.0       2\n",
       "j  3.0       1"
      ]
     },
     "execution_count": 66,
     "metadata": {
      "tags": []
     },
     "output_type": "execute_result"
    }
   ],
   "source": [
    "df2[['age','visits']] #selecting particular columns"
   ]
  },
  {
   "cell_type": "code",
   "execution_count": 70,
   "metadata": {
    "colab": {},
    "colab_type": "code",
    "collapsed": true,
    "id": "KjNyhajBvJLi",
    "outputId": "1d985569-85a4-4501-ad26-23bb3835322a"
   },
   "outputs": [
    {
     "data": {
      "text/html": [
       "<div>\n",
       "<style scoped>\n",
       "    .dataframe tbody tr th:only-of-type {\n",
       "        vertical-align: middle;\n",
       "    }\n",
       "\n",
       "    .dataframe tbody tr th {\n",
       "        vertical-align: top;\n",
       "    }\n",
       "\n",
       "    .dataframe thead th {\n",
       "        text-align: right;\n",
       "    }\n",
       "</style>\n",
       "<table border=\"1\" class=\"dataframe\">\n",
       "  <thead>\n",
       "    <tr style=\"text-align: right;\">\n",
       "      <th></th>\n",
       "      <th>animals</th>\n",
       "      <th>age</th>\n",
       "      <th>visits</th>\n",
       "      <th>priority</th>\n",
       "    </tr>\n",
       "  </thead>\n",
       "  <tbody>\n",
       "    <tr>\n",
       "      <th>a</th>\n",
       "      <td>cat</td>\n",
       "      <td>2.5</td>\n",
       "      <td>1</td>\n",
       "      <td>y</td>\n",
       "    </tr>\n",
       "    <tr>\n",
       "      <th>b</th>\n",
       "      <td>cat</td>\n",
       "      <td>3.0</td>\n",
       "      <td>3</td>\n",
       "      <td>y</td>\n",
       "    </tr>\n",
       "    <tr>\n",
       "      <th>c</th>\n",
       "      <td>snake</td>\n",
       "      <td>0.5</td>\n",
       "      <td>2</td>\n",
       "      <td>n</td>\n",
       "    </tr>\n",
       "    <tr>\n",
       "      <th>d</th>\n",
       "      <td>dog</td>\n",
       "      <td>NaN</td>\n",
       "      <td>3</td>\n",
       "      <td>y</td>\n",
       "    </tr>\n",
       "    <tr>\n",
       "      <th>e</th>\n",
       "      <td>dog</td>\n",
       "      <td>5.0</td>\n",
       "      <td>2</td>\n",
       "      <td>n</td>\n",
       "    </tr>\n",
       "    <tr>\n",
       "      <th>f</th>\n",
       "      <td>cat</td>\n",
       "      <td>2.0</td>\n",
       "      <td>3</td>\n",
       "      <td>n</td>\n",
       "    </tr>\n",
       "    <tr>\n",
       "      <th>g</th>\n",
       "      <td>snake</td>\n",
       "      <td>4.5</td>\n",
       "      <td>1</td>\n",
       "      <td>n</td>\n",
       "    </tr>\n",
       "    <tr>\n",
       "      <th>h</th>\n",
       "      <td>cat</td>\n",
       "      <td>NaN</td>\n",
       "      <td>1</td>\n",
       "      <td>y</td>\n",
       "    </tr>\n",
       "    <tr>\n",
       "      <th>i</th>\n",
       "      <td>dog</td>\n",
       "      <td>7.0</td>\n",
       "      <td>2</td>\n",
       "      <td>n</td>\n",
       "    </tr>\n",
       "    <tr>\n",
       "      <th>j</th>\n",
       "      <td>dog</td>\n",
       "      <td>3.0</td>\n",
       "      <td>1</td>\n",
       "      <td>n</td>\n",
       "    </tr>\n",
       "  </tbody>\n",
       "</table>\n",
       "</div>"
      ],
      "text/plain": [
       "  animals  age  visits priority\n",
       "a     cat  2.5       1        y\n",
       "b     cat  3.0       3        y\n",
       "c   snake  0.5       2        n\n",
       "d     dog  NaN       3        y\n",
       "e     dog  5.0       2        n\n",
       "f     cat  2.0       3        n\n",
       "g   snake  4.5       1        n\n",
       "h     cat  NaN       1        y\n",
       "i     dog  7.0       2        n\n",
       "j     dog  3.0       1        n"
      ]
     },
     "execution_count": 70,
     "metadata": {},
     "output_type": "execute_result"
    }
   ],
   "source": [
    "df3=df2.copy()\n",
    "df3"
   ]
  },
  {
   "cell_type": "code",
   "execution_count": 0,
   "metadata": {
    "colab": {},
    "colab_type": "code",
    "collapsed": true,
    "id": "g6ZLKs1tvJLm",
    "outputId": "4acd97f5-8142-46d1-ab46-b22c09cf959c"
   },
   "outputs": [
    {
     "data": {
      "text/html": [
       "<div>\n",
       "<style scoped>\n",
       "    .dataframe tbody tr th:only-of-type {\n",
       "        vertical-align: middle;\n",
       "    }\n",
       "\n",
       "    .dataframe tbody tr th {\n",
       "        vertical-align: top;\n",
       "    }\n",
       "\n",
       "    .dataframe thead th {\n",
       "        text-align: right;\n",
       "    }\n",
       "</style>\n",
       "<table border=\"1\" class=\"dataframe\">\n",
       "  <thead>\n",
       "    <tr style=\"text-align: right;\">\n",
       "      <th></th>\n",
       "      <th>animals</th>\n",
       "      <th>age</th>\n",
       "      <th>visits</th>\n",
       "      <th>priority</th>\n",
       "    </tr>\n",
       "  </thead>\n",
       "  <tbody>\n",
       "    <tr>\n",
       "      <th>a</th>\n",
       "      <td>False</td>\n",
       "      <td>False</td>\n",
       "      <td>False</td>\n",
       "      <td>False</td>\n",
       "    </tr>\n",
       "    <tr>\n",
       "      <th>b</th>\n",
       "      <td>False</td>\n",
       "      <td>False</td>\n",
       "      <td>False</td>\n",
       "      <td>False</td>\n",
       "    </tr>\n",
       "    <tr>\n",
       "      <th>c</th>\n",
       "      <td>False</td>\n",
       "      <td>False</td>\n",
       "      <td>False</td>\n",
       "      <td>False</td>\n",
       "    </tr>\n",
       "    <tr>\n",
       "      <th>d</th>\n",
       "      <td>False</td>\n",
       "      <td>True</td>\n",
       "      <td>False</td>\n",
       "      <td>False</td>\n",
       "    </tr>\n",
       "    <tr>\n",
       "      <th>e</th>\n",
       "      <td>False</td>\n",
       "      <td>False</td>\n",
       "      <td>False</td>\n",
       "      <td>False</td>\n",
       "    </tr>\n",
       "    <tr>\n",
       "      <th>f</th>\n",
       "      <td>False</td>\n",
       "      <td>False</td>\n",
       "      <td>False</td>\n",
       "      <td>False</td>\n",
       "    </tr>\n",
       "    <tr>\n",
       "      <th>g</th>\n",
       "      <td>False</td>\n",
       "      <td>False</td>\n",
       "      <td>False</td>\n",
       "      <td>False</td>\n",
       "    </tr>\n",
       "    <tr>\n",
       "      <th>h</th>\n",
       "      <td>False</td>\n",
       "      <td>True</td>\n",
       "      <td>False</td>\n",
       "      <td>False</td>\n",
       "    </tr>\n",
       "    <tr>\n",
       "      <th>i</th>\n",
       "      <td>False</td>\n",
       "      <td>False</td>\n",
       "      <td>False</td>\n",
       "      <td>False</td>\n",
       "    </tr>\n",
       "    <tr>\n",
       "      <th>j</th>\n",
       "      <td>False</td>\n",
       "      <td>False</td>\n",
       "      <td>False</td>\n",
       "      <td>False</td>\n",
       "    </tr>\n",
       "  </tbody>\n",
       "</table>\n",
       "</div>"
      ],
      "text/plain": [
       "   animals    age  visits  priority\n",
       "a    False  False   False     False\n",
       "b    False  False   False     False\n",
       "c    False  False   False     False\n",
       "d    False   True   False     False\n",
       "e    False  False   False     False\n",
       "f    False  False   False     False\n",
       "g    False  False   False     False\n",
       "h    False   True   False     False\n",
       "i    False  False   False     False\n",
       "j    False  False   False     False"
      ]
     },
     "execution_count": 70,
     "metadata": {
      "tags": []
     },
     "output_type": "execute_result"
    }
   ],
   "source": [
    "df3.isnull() # returns true wherever values are null"
   ]
  },
  {
   "cell_type": "code",
   "execution_count": 0,
   "metadata": {
    "colab": {},
    "colab_type": "code",
    "collapsed": true,
    "id": "hPavxCmmvJLq",
    "outputId": "69eca3c1-2bee-4712-c2d0-ad2802a37319"
   },
   "outputs": [
    {
     "data": {
      "text/html": [
       "<div>\n",
       "<style scoped>\n",
       "    .dataframe tbody tr th:only-of-type {\n",
       "        vertical-align: middle;\n",
       "    }\n",
       "\n",
       "    .dataframe tbody tr th {\n",
       "        vertical-align: top;\n",
       "    }\n",
       "\n",
       "    .dataframe thead th {\n",
       "        text-align: right;\n",
       "    }\n",
       "</style>\n",
       "<table border=\"1\" class=\"dataframe\">\n",
       "  <thead>\n",
       "    <tr style=\"text-align: right;\">\n",
       "      <th></th>\n",
       "      <th>animals</th>\n",
       "      <th>age</th>\n",
       "      <th>visits</th>\n",
       "      <th>priority</th>\n",
       "    </tr>\n",
       "  </thead>\n",
       "  <tbody>\n",
       "    <tr>\n",
       "      <th>a</th>\n",
       "      <td>cat</td>\n",
       "      <td>2.5</td>\n",
       "      <td>1</td>\n",
       "      <td>y</td>\n",
       "    </tr>\n",
       "    <tr>\n",
       "      <th>b</th>\n",
       "      <td>cat</td>\n",
       "      <td>3.0</td>\n",
       "      <td>3</td>\n",
       "      <td>y</td>\n",
       "    </tr>\n",
       "    <tr>\n",
       "      <th>c</th>\n",
       "      <td>snake</td>\n",
       "      <td>0.5</td>\n",
       "      <td>2</td>\n",
       "      <td>n</td>\n",
       "    </tr>\n",
       "    <tr>\n",
       "      <th>d</th>\n",
       "      <td>dog</td>\n",
       "      <td>NaN</td>\n",
       "      <td>3</td>\n",
       "      <td>y</td>\n",
       "    </tr>\n",
       "    <tr>\n",
       "      <th>e</th>\n",
       "      <td>dog</td>\n",
       "      <td>5.0</td>\n",
       "      <td>2</td>\n",
       "      <td>n</td>\n",
       "    </tr>\n",
       "    <tr>\n",
       "      <th>f</th>\n",
       "      <td>cat</td>\n",
       "      <td>1.5</td>\n",
       "      <td>3</td>\n",
       "      <td>n</td>\n",
       "    </tr>\n",
       "    <tr>\n",
       "      <th>g</th>\n",
       "      <td>snake</td>\n",
       "      <td>4.5</td>\n",
       "      <td>1</td>\n",
       "      <td>n</td>\n",
       "    </tr>\n",
       "    <tr>\n",
       "      <th>h</th>\n",
       "      <td>cat</td>\n",
       "      <td>NaN</td>\n",
       "      <td>1</td>\n",
       "      <td>y</td>\n",
       "    </tr>\n",
       "    <tr>\n",
       "      <th>i</th>\n",
       "      <td>dog</td>\n",
       "      <td>7.0</td>\n",
       "      <td>2</td>\n",
       "      <td>n</td>\n",
       "    </tr>\n",
       "    <tr>\n",
       "      <th>j</th>\n",
       "      <td>dog</td>\n",
       "      <td>3.0</td>\n",
       "      <td>1</td>\n",
       "      <td>n</td>\n",
       "    </tr>\n",
       "  </tbody>\n",
       "</table>\n",
       "</div>"
      ],
      "text/plain": [
       "  animals  age  visits priority\n",
       "a     cat  2.5       1        y\n",
       "b     cat  3.0       3        y\n",
       "c   snake  0.5       2        n\n",
       "d     dog  NaN       3        y\n",
       "e     dog  5.0       2        n\n",
       "f     cat  1.5       3        n\n",
       "g   snake  4.5       1        n\n",
       "h     cat  NaN       1        y\n",
       "i     dog  7.0       2        n\n",
       "j     dog  3.0       1        n"
      ]
     },
     "execution_count": 71,
     "metadata": {
      "tags": []
     },
     "output_type": "execute_result"
    }
   ],
   "source": [
    "df3.loc['f','age']=1.5 #changing particular value in the same dataframe\n",
    "df3"
   ]
  },
  {
   "cell_type": "code",
   "execution_count": 0,
   "metadata": {
    "colab": {},
    "colab_type": "code",
    "collapsed": true,
    "id": "x7MrZOTQvJLv",
    "outputId": "e704b049-15fc-4ed4-9ae1-efd69a5285ed"
   },
   "outputs": [
    {
     "data": {
      "text/plain": [
       "age       3.375\n",
       "visits    1.900\n",
       "dtype: float64"
      ]
     },
     "execution_count": 72,
     "metadata": {
      "tags": []
     },
     "output_type": "execute_result"
    }
   ],
   "source": [
    "df3.mean()\n",
    "\n",
    "df3[['age']].mean()\n",
    "\n",
    "df3[['visits']].sum()\n",
    "\n",
    "df3[['visits']].max()\n",
    "\n",
    "df3[['visits']].min()\n",
    "\n",
    "df3.sum()"
   ]
  },
  {
   "cell_type": "code",
   "execution_count": 0,
   "metadata": {
    "colab": {},
    "colab_type": "code",
    "collapsed": true,
    "id": "pKFZb92ovJMR",
    "outputId": "f4c0c57e-ed5d-47e1-c8f5-ae542c5941f0"
   },
   "outputs": [
    {
     "data": {
      "text/plain": [
       "0    a\n",
       "1    b\n",
       "2    c\n",
       "3    S\n",
       "4    e\n",
       "5    J\n",
       "6    g\n",
       "7    B\n",
       "8    P\n",
       "9    o\n",
       "dtype: object"
      ]
     },
     "execution_count": 80,
     "metadata": {
      "tags": []
     },
     "output_type": "execute_result"
    }
   ],
   "source": [
    "string=pd.Series(['a','b','c','S','e','J','g','B','P','o'])\n",
    "string\n",
    "\n",
    "string.str.upper()\n",
    "\n",
    "string.str.lower()"
   ]
  },
  {
   "cell_type": "markdown",
   "metadata": {
    "colab_type": "text",
    "id": "famcDdPIvJMz"
   },
   "source": [
    "#Operations of data frames for missing values"
   ]
  },
  {
   "cell_type": "code",
   "execution_count": 73,
   "metadata": {
    "colab": {},
    "colab_type": "code",
    "collapsed": true,
    "id": "zYKWuPQvvJM0",
    "outputId": "95c42f74-6e51-4256-d9ad-665f96548d71"
   },
   "outputs": [
    {
     "name": "stdout",
     "output_type": "stream",
     "text": [
      "  animals  age  visits priority\n",
      "a     cat  2.5       1        y\n",
      "b     cat  3.0       3        y\n",
      "c   snake  0.5       2        n\n",
      "d     dog  NaN       3        y\n",
      "e     dog  5.0       2        n\n",
      "f     cat  2.0       3        n\n",
      "g   snake  4.5       1        n\n",
      "h     cat  NaN       1        y\n",
      "i     dog  7.0       2        n\n",
      "j     dog  3.0       1        n\n",
      "  animals  age  visits priority\n",
      "a     cat  2.5       1        y\n",
      "b     cat  3.0       3        y\n",
      "c   snake  0.5       2        n\n",
      "d     dog  4.0       3        y\n",
      "e     dog  5.0       2        n\n",
      "f     cat  2.0       3        n\n",
      "g   snake  4.5       1        n\n",
      "h     cat  4.0       1        y\n",
      "i     dog  7.0       2        n\n",
      "j     dog  3.0       1        n\n"
     ]
    }
   ],
   "source": [
    "print(df3)\n",
    "df4=df3.copy()\n",
    "print(df4.fillna(4)) #fill Nan with 4\n"
   ]
  },
  {
   "cell_type": "code",
   "execution_count": 75,
   "metadata": {
    "colab": {},
    "colab_type": "code",
    "id": "IGWILqZSvJM3"
   },
   "outputs": [
    {
     "data": {
      "text/plain": [
       "3.4375"
      ]
     },
     "execution_count": 75,
     "metadata": {},
     "output_type": "execute_result"
    }
   ],
   "source": [
    "meanage=df4['age'].mean()\n",
    "meanage"
   ]
  },
  {
   "cell_type": "code",
   "execution_count": 76,
   "metadata": {
    "colab": {},
    "colab_type": "code",
    "collapsed": true,
    "id": "LRkTvvfBvJM8",
    "outputId": "69ab9a6b-583a-43fe-b419-97b5e59fb655"
   },
   "outputs": [
    {
     "data": {
      "text/html": [
       "<div>\n",
       "<style scoped>\n",
       "    .dataframe tbody tr th:only-of-type {\n",
       "        vertical-align: middle;\n",
       "    }\n",
       "\n",
       "    .dataframe tbody tr th {\n",
       "        vertical-align: top;\n",
       "    }\n",
       "\n",
       "    .dataframe thead th {\n",
       "        text-align: right;\n",
       "    }\n",
       "</style>\n",
       "<table border=\"1\" class=\"dataframe\">\n",
       "  <thead>\n",
       "    <tr style=\"text-align: right;\">\n",
       "      <th></th>\n",
       "      <th>animals</th>\n",
       "      <th>age</th>\n",
       "      <th>visits</th>\n",
       "      <th>priority</th>\n",
       "    </tr>\n",
       "  </thead>\n",
       "  <tbody>\n",
       "    <tr>\n",
       "      <th>a</th>\n",
       "      <td>cat</td>\n",
       "      <td>2.5000</td>\n",
       "      <td>1</td>\n",
       "      <td>y</td>\n",
       "    </tr>\n",
       "    <tr>\n",
       "      <th>b</th>\n",
       "      <td>cat</td>\n",
       "      <td>3.0000</td>\n",
       "      <td>3</td>\n",
       "      <td>y</td>\n",
       "    </tr>\n",
       "    <tr>\n",
       "      <th>c</th>\n",
       "      <td>snake</td>\n",
       "      <td>0.5000</td>\n",
       "      <td>2</td>\n",
       "      <td>n</td>\n",
       "    </tr>\n",
       "    <tr>\n",
       "      <th>d</th>\n",
       "      <td>dog</td>\n",
       "      <td>3.4375</td>\n",
       "      <td>3</td>\n",
       "      <td>y</td>\n",
       "    </tr>\n",
       "    <tr>\n",
       "      <th>e</th>\n",
       "      <td>dog</td>\n",
       "      <td>5.0000</td>\n",
       "      <td>2</td>\n",
       "      <td>n</td>\n",
       "    </tr>\n",
       "    <tr>\n",
       "      <th>f</th>\n",
       "      <td>cat</td>\n",
       "      <td>2.0000</td>\n",
       "      <td>3</td>\n",
       "      <td>n</td>\n",
       "    </tr>\n",
       "    <tr>\n",
       "      <th>g</th>\n",
       "      <td>snake</td>\n",
       "      <td>4.5000</td>\n",
       "      <td>1</td>\n",
       "      <td>n</td>\n",
       "    </tr>\n",
       "    <tr>\n",
       "      <th>h</th>\n",
       "      <td>cat</td>\n",
       "      <td>3.4375</td>\n",
       "      <td>1</td>\n",
       "      <td>y</td>\n",
       "    </tr>\n",
       "    <tr>\n",
       "      <th>i</th>\n",
       "      <td>dog</td>\n",
       "      <td>7.0000</td>\n",
       "      <td>2</td>\n",
       "      <td>n</td>\n",
       "    </tr>\n",
       "    <tr>\n",
       "      <th>j</th>\n",
       "      <td>dog</td>\n",
       "      <td>3.0000</td>\n",
       "      <td>1</td>\n",
       "      <td>n</td>\n",
       "    </tr>\n",
       "  </tbody>\n",
       "</table>\n",
       "</div>"
      ],
      "text/plain": [
       "  animals     age  visits priority\n",
       "a     cat  2.5000       1        y\n",
       "b     cat  3.0000       3        y\n",
       "c   snake  0.5000       2        n\n",
       "d     dog  3.4375       3        y\n",
       "e     dog  5.0000       2        n\n",
       "f     cat  2.0000       3        n\n",
       "g   snake  4.5000       1        n\n",
       "h     cat  3.4375       1        y\n",
       "i     dog  7.0000       2        n\n",
       "j     dog  3.0000       1        n"
      ]
     },
     "execution_count": 76,
     "metadata": {},
     "output_type": "execute_result"
    }
   ],
   "source": [
    "df4.fillna(meanage)"
   ]
  },
  {
   "cell_type": "code",
   "execution_count": 0,
   "metadata": {
    "colab": {},
    "colab_type": "code",
    "collapsed": true,
    "id": "xM1rzjApvJM_",
    "outputId": "3ff01f42-32ae-4e4c-c3fa-f285fb9d1edb"
   },
   "outputs": [
    {
     "data": {
      "text/html": [
       "<div>\n",
       "<style scoped>\n",
       "    .dataframe tbody tr th:only-of-type {\n",
       "        vertical-align: middle;\n",
       "    }\n",
       "\n",
       "    .dataframe tbody tr th {\n",
       "        vertical-align: top;\n",
       "    }\n",
       "\n",
       "    .dataframe thead th {\n",
       "        text-align: right;\n",
       "    }\n",
       "</style>\n",
       "<table border=\"1\" class=\"dataframe\">\n",
       "  <thead>\n",
       "    <tr style=\"text-align: right;\">\n",
       "      <th></th>\n",
       "      <th>animals</th>\n",
       "      <th>age</th>\n",
       "      <th>visits</th>\n",
       "      <th>priority</th>\n",
       "    </tr>\n",
       "  </thead>\n",
       "  <tbody>\n",
       "    <tr>\n",
       "      <th>a</th>\n",
       "      <td>cat</td>\n",
       "      <td>2.5</td>\n",
       "      <td>1</td>\n",
       "      <td>y</td>\n",
       "    </tr>\n",
       "    <tr>\n",
       "      <th>b</th>\n",
       "      <td>cat</td>\n",
       "      <td>3.0</td>\n",
       "      <td>3</td>\n",
       "      <td>y</td>\n",
       "    </tr>\n",
       "    <tr>\n",
       "      <th>c</th>\n",
       "      <td>snake</td>\n",
       "      <td>0.5</td>\n",
       "      <td>2</td>\n",
       "      <td>n</td>\n",
       "    </tr>\n",
       "    <tr>\n",
       "      <th>e</th>\n",
       "      <td>dog</td>\n",
       "      <td>5.0</td>\n",
       "      <td>2</td>\n",
       "      <td>n</td>\n",
       "    </tr>\n",
       "    <tr>\n",
       "      <th>f</th>\n",
       "      <td>cat</td>\n",
       "      <td>1.5</td>\n",
       "      <td>3</td>\n",
       "      <td>n</td>\n",
       "    </tr>\n",
       "    <tr>\n",
       "      <th>g</th>\n",
       "      <td>snake</td>\n",
       "      <td>4.5</td>\n",
       "      <td>1</td>\n",
       "      <td>n</td>\n",
       "    </tr>\n",
       "    <tr>\n",
       "      <th>i</th>\n",
       "      <td>dog</td>\n",
       "      <td>7.0</td>\n",
       "      <td>2</td>\n",
       "      <td>n</td>\n",
       "    </tr>\n",
       "    <tr>\n",
       "      <th>j</th>\n",
       "      <td>dog</td>\n",
       "      <td>3.0</td>\n",
       "      <td>1</td>\n",
       "      <td>n</td>\n",
       "    </tr>\n",
       "  </tbody>\n",
       "</table>\n",
       "</div>"
      ],
      "text/plain": [
       "  animals  age  visits priority\n",
       "a     cat  2.5       1        y\n",
       "b     cat  3.0       3        y\n",
       "c   snake  0.5       2        n\n",
       "e     dog  5.0       2        n\n",
       "f     cat  1.5       3        n\n",
       "g   snake  4.5       1        n\n",
       "i     dog  7.0       2        n\n",
       "j     dog  3.0       1        n"
      ]
     },
     "execution_count": 88,
     "metadata": {
      "tags": []
     },
     "output_type": "execute_result"
    }
   ],
   "source": [
    "#Dropping data\n",
    "df5=df3.copy()\n",
    "df5=df5.dropna(how='any')\n",
    "df5"
   ]
  },
  {
   "cell_type": "markdown",
   "metadata": {
    "colab": {},
    "colab_type": "code",
    "id": "wmO0ZtQNvJNF"
   },
   "source": [
    "## Filling up missing data"
   ]
  },
  {
   "cell_type": "code",
   "execution_count": 77,
   "metadata": {
    "colab": {},
    "colab_type": "code",
    "id": "Yj4KIls2vJNQ"
   },
   "outputs": [],
   "source": [
    "df3.to_csv('animal.csv')"
   ]
  },
  {
   "cell_type": "code",
   "execution_count": 0,
   "metadata": {
    "colab": {},
    "colab_type": "code",
    "collapsed": true,
    "id": "2UAmtiphvJNU",
    "outputId": "4dfcb8e9-c562-4c8f-bbb4-1484e0478707"
   },
   "outputs": [
    {
     "data": {
      "text/html": [
       "<div>\n",
       "<style scoped>\n",
       "    .dataframe tbody tr th:only-of-type {\n",
       "        vertical-align: middle;\n",
       "    }\n",
       "\n",
       "    .dataframe tbody tr th {\n",
       "        vertical-align: top;\n",
       "    }\n",
       "\n",
       "    .dataframe thead th {\n",
       "        text-align: right;\n",
       "    }\n",
       "</style>\n",
       "<table border=\"1\" class=\"dataframe\">\n",
       "  <thead>\n",
       "    <tr style=\"text-align: right;\">\n",
       "      <th></th>\n",
       "      <th>Unnamed: 0</th>\n",
       "      <th>animals</th>\n",
       "      <th>age</th>\n",
       "      <th>visits</th>\n",
       "      <th>priority</th>\n",
       "    </tr>\n",
       "  </thead>\n",
       "  <tbody>\n",
       "    <tr>\n",
       "      <th>0</th>\n",
       "      <td>a</td>\n",
       "      <td>cat</td>\n",
       "      <td>2.5</td>\n",
       "      <td>1</td>\n",
       "      <td>y</td>\n",
       "    </tr>\n",
       "    <tr>\n",
       "      <th>1</th>\n",
       "      <td>b</td>\n",
       "      <td>cat</td>\n",
       "      <td>3.0</td>\n",
       "      <td>3</td>\n",
       "      <td>y</td>\n",
       "    </tr>\n",
       "    <tr>\n",
       "      <th>2</th>\n",
       "      <td>c</td>\n",
       "      <td>snake</td>\n",
       "      <td>0.5</td>\n",
       "      <td>2</td>\n",
       "      <td>n</td>\n",
       "    </tr>\n",
       "  </tbody>\n",
       "</table>\n",
       "</div>"
      ],
      "text/plain": [
       "  Unnamed: 0 animals  age  visits priority\n",
       "0          a     cat  2.5       1        y\n",
       "1          b     cat  3.0       3        y\n",
       "2          c   snake  0.5       2        n"
      ]
     },
     "execution_count": 92,
     "metadata": {
      "tags": []
     },
     "output_type": "execute_result"
    }
   ],
   "source": [
    "df_animal=pd.read_csv('animal.csv')\n",
    "df_animal.head(3)"
   ]
  },
  {
   "cell_type": "code",
   "execution_count": 79,
   "metadata": {
    "colab": {},
    "colab_type": "code",
    "collapsed": true,
    "id": "q6DWY-c1vJNX",
    "outputId": "a9f420c6-d741-4bfc-a63c-7229e4d1480d"
   },
   "outputs": [
    {
     "data": {
      "text/html": [
       "<div>\n",
       "<style scoped>\n",
       "    .dataframe tbody tr th:only-of-type {\n",
       "        vertical-align: middle;\n",
       "    }\n",
       "\n",
       "    .dataframe tbody tr th {\n",
       "        vertical-align: top;\n",
       "    }\n",
       "\n",
       "    .dataframe thead th {\n",
       "        text-align: right;\n",
       "    }\n",
       "</style>\n",
       "<table border=\"1\" class=\"dataframe\">\n",
       "  <thead>\n",
       "    <tr style=\"text-align: right;\">\n",
       "      <th></th>\n",
       "      <th>Unnamed: 0</th>\n",
       "      <th>animals</th>\n",
       "      <th>age</th>\n",
       "      <th>visits</th>\n",
       "      <th>priority</th>\n",
       "    </tr>\n",
       "  </thead>\n",
       "  <tbody>\n",
       "    <tr>\n",
       "      <th>0</th>\n",
       "      <td>a</td>\n",
       "      <td>cat</td>\n",
       "      <td>2.5</td>\n",
       "      <td>1</td>\n",
       "      <td>y</td>\n",
       "    </tr>\n",
       "    <tr>\n",
       "      <th>1</th>\n",
       "      <td>b</td>\n",
       "      <td>cat</td>\n",
       "      <td>3.0</td>\n",
       "      <td>3</td>\n",
       "      <td>y</td>\n",
       "    </tr>\n",
       "    <tr>\n",
       "      <th>2</th>\n",
       "      <td>c</td>\n",
       "      <td>snake</td>\n",
       "      <td>0.5</td>\n",
       "      <td>2</td>\n",
       "      <td>n</td>\n",
       "    </tr>\n",
       "    <tr>\n",
       "      <th>3</th>\n",
       "      <td>d</td>\n",
       "      <td>dog</td>\n",
       "      <td>NaN</td>\n",
       "      <td>3</td>\n",
       "      <td>y</td>\n",
       "    </tr>\n",
       "    <tr>\n",
       "      <th>4</th>\n",
       "      <td>e</td>\n",
       "      <td>dog</td>\n",
       "      <td>5.0</td>\n",
       "      <td>2</td>\n",
       "      <td>n</td>\n",
       "    </tr>\n",
       "    <tr>\n",
       "      <th>5</th>\n",
       "      <td>f</td>\n",
       "      <td>cat</td>\n",
       "      <td>2.0</td>\n",
       "      <td>3</td>\n",
       "      <td>n</td>\n",
       "    </tr>\n",
       "    <tr>\n",
       "      <th>6</th>\n",
       "      <td>g</td>\n",
       "      <td>snake</td>\n",
       "      <td>4.5</td>\n",
       "      <td>1</td>\n",
       "      <td>n</td>\n",
       "    </tr>\n",
       "    <tr>\n",
       "      <th>7</th>\n",
       "      <td>h</td>\n",
       "      <td>cat</td>\n",
       "      <td>NaN</td>\n",
       "      <td>1</td>\n",
       "      <td>y</td>\n",
       "    </tr>\n",
       "    <tr>\n",
       "      <th>8</th>\n",
       "      <td>i</td>\n",
       "      <td>dog</td>\n",
       "      <td>7.0</td>\n",
       "      <td>2</td>\n",
       "      <td>n</td>\n",
       "    </tr>\n",
       "    <tr>\n",
       "      <th>9</th>\n",
       "      <td>j</td>\n",
       "      <td>dog</td>\n",
       "      <td>3.0</td>\n",
       "      <td>1</td>\n",
       "      <td>n</td>\n",
       "    </tr>\n",
       "  </tbody>\n",
       "</table>\n",
       "</div>"
      ],
      "text/plain": [
       "  Unnamed: 0 animals  age  visits priority\n",
       "0          a     cat  2.5       1        y\n",
       "1          b     cat  3.0       3        y\n",
       "2          c   snake  0.5       2        n\n",
       "3          d     dog  NaN       3        y\n",
       "4          e     dog  5.0       2        n\n",
       "5          f     cat  2.0       3        n\n",
       "6          g   snake  4.5       1        n\n",
       "7          h     cat  NaN       1        y\n",
       "8          i     dog  7.0       2        n\n",
       "9          j     dog  3.0       1        n"
      ]
     },
     "execution_count": 79,
     "metadata": {},
     "output_type": "execute_result"
    }
   ],
   "source": [
    "df3.to_excel('animal.xlsx',sheet_name='sheet1')\n",
    "df_animal2=pd.read_excel('animal.xlsx', 'sheet1',\n",
    "                         index_col=None, na_values=['NA'])\n",
    "df_animal2"
   ]
  },
  {
   "cell_type": "code",
   "execution_count": 18,
   "metadata": {
    "colab": {},
    "colab_type": "code",
    "collapsed": true,
    "id": "oxhS36HMvJNk"
   },
   "outputs": [
    {
     "name": "stdout",
     "output_type": "stream",
     "text": [
      "Int64Index([2, 3, 5, 7, 11], dtype='int64')\n",
      "5\n",
      "Int64Index([2, 5, 11], dtype='int64')\n",
      "5 (5,) 1 int64\n"
     ]
    },
    {
     "ename": "TypeError",
     "evalue": "Index does not support mutable operations",
     "output_type": "error",
     "traceback": [
      "\u001b[1;31m---------------------------------------------------------------------------\u001b[0m",
      "\u001b[1;31mTypeError\u001b[0m                                 Traceback (most recent call last)",
      "\u001b[1;32m<ipython-input-18-16c1723a9dca>\u001b[0m in \u001b[0;36m<module>\u001b[1;34m\u001b[0m\n\u001b[0;32m      7\u001b[0m \u001b[1;31m# familiar attributes from NumPy arrays\u001b[0m\u001b[1;33m\u001b[0m\u001b[1;33m\u001b[0m\u001b[1;33m\u001b[0m\u001b[0m\n\u001b[0;32m      8\u001b[0m \u001b[0mprint\u001b[0m\u001b[1;33m(\u001b[0m\u001b[0mind\u001b[0m\u001b[1;33m.\u001b[0m\u001b[0msize\u001b[0m \u001b[1;33m,\u001b[0m \u001b[0mind\u001b[0m\u001b[1;33m.\u001b[0m\u001b[0mshape\u001b[0m\u001b[1;33m,\u001b[0m \u001b[0mind\u001b[0m\u001b[1;33m.\u001b[0m\u001b[0mndim\u001b[0m\u001b[1;33m,\u001b[0m \u001b[0mind\u001b[0m\u001b[1;33m.\u001b[0m\u001b[0mdtype\u001b[0m\u001b[1;33m)\u001b[0m\u001b[1;33m\u001b[0m\u001b[1;33m\u001b[0m\u001b[0m\n\u001b[1;32m----> 9\u001b[1;33m \u001b[0mind\u001b[0m\u001b[1;33m[\u001b[0m\u001b[1;36m2\u001b[0m\u001b[1;33m]\u001b[0m \u001b[1;33m=\u001b[0m \u001b[1;36m4\u001b[0m\u001b[1;33m\u001b[0m\u001b[1;33m\u001b[0m\u001b[0m\n\u001b[0m",
      "\u001b[1;32mE:\\Anaconda\\lib\\site-packages\\pandas\\core\\indexes\\base.py\u001b[0m in \u001b[0;36m__setitem__\u001b[1;34m(self, key, value)\u001b[0m\n\u001b[0;32m   3936\u001b[0m \u001b[1;33m\u001b[0m\u001b[0m\n\u001b[0;32m   3937\u001b[0m     \u001b[1;32mdef\u001b[0m \u001b[0m__setitem__\u001b[0m\u001b[1;33m(\u001b[0m\u001b[0mself\u001b[0m\u001b[1;33m,\u001b[0m \u001b[0mkey\u001b[0m\u001b[1;33m,\u001b[0m \u001b[0mvalue\u001b[0m\u001b[1;33m)\u001b[0m\u001b[1;33m:\u001b[0m\u001b[1;33m\u001b[0m\u001b[1;33m\u001b[0m\u001b[0m\n\u001b[1;32m-> 3938\u001b[1;33m         \u001b[1;32mraise\u001b[0m \u001b[0mTypeError\u001b[0m\u001b[1;33m(\u001b[0m\u001b[1;34m\"Index does not support mutable operations\"\u001b[0m\u001b[1;33m)\u001b[0m\u001b[1;33m\u001b[0m\u001b[1;33m\u001b[0m\u001b[0m\n\u001b[0m\u001b[0;32m   3939\u001b[0m \u001b[1;33m\u001b[0m\u001b[0m\n\u001b[0;32m   3940\u001b[0m     \u001b[1;32mdef\u001b[0m \u001b[0m__getitem__\u001b[0m\u001b[1;33m(\u001b[0m\u001b[0mself\u001b[0m\u001b[1;33m,\u001b[0m \u001b[0mkey\u001b[0m\u001b[1;33m)\u001b[0m\u001b[1;33m:\u001b[0m\u001b[1;33m\u001b[0m\u001b[1;33m\u001b[0m\u001b[0m\n",
      "\u001b[1;31mTypeError\u001b[0m: Index does not support mutable operations"
     ]
    }
   ],
   "source": [
    "# Index as immutable array\n",
    "\n",
    "ind = pd.Index([2, 3, 5, 7, 11])\n",
    "print(ind)\n",
    "print(ind[2])\n",
    "print(ind[ : : 2])\n",
    "# familiar attributes from NumPy arrays\n",
    "print(ind.size , ind.shape, ind.ndim, ind.dtype)\n",
    "#ind[2] = 4"
   ]
  },
  {
   "cell_type": "code",
   "execution_count": null,
   "metadata": {},
   "outputs": [],
   "source": [
    "# Index object vs array\n",
    "ind[1] = 0"
   ]
  },
  {
   "cell_type": "code",
   "execution_count": 11,
   "metadata": {
    "collapsed": true
   },
   "outputs": [
    {
     "name": "stdout",
     "output_type": "stream",
     "text": [
      "Int64Index([3, 5, 7], dtype='int64')\n",
      "Int64Index([1, 2, 3, 5, 7, 9, 11], dtype='int64')\n",
      "Int64Index([1, 2, 9, 11], dtype='int64')\n"
     ]
    }
   ],
   "source": [
    "# Index as ordered set\n",
    "indA = pd.Index([1, 3, 5, 7, 9])\n",
    "indB = pd.Index([2, 3, 5, 7, 11])\n",
    "\n",
    "print(indA & indB) # intersection\n",
    "print(indA | indB) # union\n",
    "print(indA ^ indB) # symmetric difference"
   ]
  },
  {
   "cell_type": "markdown",
   "metadata": {},
   "source": [
    "## Combining Datasets\n",
    "- Pandas concatenation preserves indices, even if it results in duplicate indices."
   ]
  },
  {
   "cell_type": "markdown",
   "metadata": {},
   "source": [
    "##### Series Concatenation"
   ]
  },
  {
   "cell_type": "code",
   "execution_count": 2,
   "metadata": {
    "collapsed": true
   },
   "outputs": [
    {
     "name": "stdout",
     "output_type": "stream",
     "text": [
      "Series 1 : \n",
      " 1    A\n",
      "2    B\n",
      "3    C\n",
      "dtype: object \n",
      "Series 2 : \n",
      " 4    D\n",
      "5    E\n",
      "6    F\n",
      "dtype: object\n",
      "Concatenating series: \n",
      " 1    A\n",
      "2    B\n",
      "3    C\n",
      "4    D\n",
      "5    E\n",
      "6    F\n",
      "dtype: object\n"
     ]
    }
   ],
   "source": [
    "ser1 = pd.Series(['A', 'B', 'C'], index=[1, 2, 3]) \n",
    "ser2 = pd.Series( ['D', 'E', 'F'], index=[4, 5, 6] ) \n",
    "print(\"Series 1 : \\n\",ser1, \"\\nSeries 2 : \\n\",ser2)\n",
    "print(\"Concatenating series: \\n\", pd.concat([ser1, ser2]))   "
   ]
  },
  {
   "cell_type": "markdown",
   "metadata": {},
   "source": [
    "###### Data Frame Concatenation"
   ]
  },
  {
   "cell_type": "code",
   "execution_count": 3,
   "metadata": {
    "collapsed": true
   },
   "outputs": [
    {
     "name": "stdout",
     "output_type": "stream",
     "text": [
      "Data frame 1 : \n",
      "        A      B        C\n",
      "1    axe    bat      cap\n",
      "2  apple   bomb     cape\n",
      "3    ant  brain  curtain \n",
      " Data Frame 2: \n",
      "        D         E      F\n",
      "2  drain     eagle    fan\n",
      "3  drape  elephant  frame\n",
      "6    dot       egg   flag\n",
      "Concatenating Data Frames: \n",
      "        A      B        C      D         E      F\n",
      "1    axe    bat      cap    NaN       NaN    NaN\n",
      "2  apple   bomb     cape    NaN       NaN    NaN\n",
      "3    ant  brain  curtain    NaN       NaN    NaN\n",
      "2    NaN    NaN      NaN  drain     eagle    fan\n",
      "3    NaN    NaN      NaN  drape  elephant  frame\n",
      "6    NaN    NaN      NaN    dot       egg   flag\n",
      "Concatenating Data Frames along axis 1: \n",
      "        A      B        C      D         E      F\n",
      "1    axe    bat      cap    NaN       NaN    NaN\n",
      "2  apple   bomb     cape  drain     eagle    fan\n",
      "3    ant  brain  curtain  drape  elephant  frame\n",
      "6    NaN    NaN      NaN    dot       egg   flag\n"
     ]
    },
    {
     "name": "stderr",
     "output_type": "stream",
     "text": [
      "C:\\Users\\User\\Anaconda3\\lib\\site-packages\\ipykernel_launcher.py:4: FutureWarning: Sorting because non-concatenation axis is not aligned. A future version\n",
      "of pandas will change to not sort by default.\n",
      "\n",
      "To accept the future behavior, pass 'sort=False'.\n",
      "\n",
      "To retain the current behavior and silence the warning, pass 'sort=True'.\n",
      "\n",
      "  after removing the cwd from sys.path.\n"
     ]
    }
   ],
   "source": [
    "df1 = pd.DataFrame({'A' : ['axe', 'apple', 'ant'], 'B' : ['bat', 'bomb', 'brain'], 'C' : ['cap', 'cape', 'curtain']}, index = [1,2,3])\n",
    "df2 = pd.DataFrame({'D' : ['drain', 'drape', 'dot'], 'E': [ 'eagle', 'elephant', 'egg'], 'F': ['fan', 'frame', 'flag']}, index =[ 2, 3, 6])\n",
    "print(\"Data frame 1 : \\n\", df1,'\\n Data Frame 2: \\n', df2)\n",
    "print(\"Concatenating Data Frames: \\n\",pd.concat([df1,df2]))\n",
    "print(\"Concatenating Data Frames along axis 1: \\n\",pd.concat([df1,df2], axis = 1))"
   ]
  },
  {
   "cell_type": "markdown",
   "metadata": {},
   "source": [
    "##### Ignoring the index"
   ]
  },
  {
   "cell_type": "code",
   "execution_count": 4,
   "metadata": {
    "collapsed": true
   },
   "outputs": [
    {
     "name": "stdout",
     "output_type": "stream",
     "text": [
      "Concatenation of dataframes while ignoring the index: \n",
      "        A      B        C      D         E      F\n",
      "0    axe    bat      cap    NaN       NaN    NaN\n",
      "1  apple   bomb     cape    NaN       NaN    NaN\n",
      "2    ant  brain  curtain    NaN       NaN    NaN\n",
      "3    NaN    NaN      NaN  drain     eagle    fan\n",
      "4    NaN    NaN      NaN  drape  elephant  frame\n",
      "5    NaN    NaN      NaN    dot       egg   flag\n"
     ]
    },
    {
     "name": "stderr",
     "output_type": "stream",
     "text": [
      "C:\\Users\\User\\Anaconda3\\lib\\site-packages\\ipykernel_launcher.py:1: FutureWarning: Sorting because non-concatenation axis is not aligned. A future version\n",
      "of pandas will change to not sort by default.\n",
      "\n",
      "To accept the future behavior, pass 'sort=False'.\n",
      "\n",
      "To retain the current behavior and silence the warning, pass 'sort=True'.\n",
      "\n",
      "  \"\"\"Entry point for launching an IPython kernel.\n"
     ]
    }
   ],
   "source": [
    "df_concat = pd.concat([df1, df2], ignore_index = True)\n",
    "print(\"Concatenation of dataframes while ignoring the index: \\n\", df_concat)"
   ]
  },
  {
   "cell_type": "markdown",
   "metadata": {},
   "source": [
    "##### Joining Data Frames"
   ]
  },
  {
   "cell_type": "code",
   "execution_count": 5,
   "metadata": {
    "collapsed": true
   },
   "outputs": [
    {
     "name": "stdout",
     "output_type": "stream",
     "text": [
      "Data Frame 1 : \n",
      "        A      B        C\n",
      "1    axe    bat      cap\n",
      "2  apple   bomb     cape\n",
      "3    ant  brain  curtain Data Frame 3 : \n",
      "       B         C      G\n",
      "1  ball       cat  grain\n",
      "4   box  calendar  grape\n",
      "2  band      cone   goat\n",
      " Joining Data frmes:  \n",
      "        A      B         C      G\n",
      "1    axe    bat       cap    NaN\n",
      "2  apple   bomb      cape    NaN\n",
      "3    ant  brain   curtain    NaN\n",
      "1    NaN   ball       cat  grain\n",
      "4    NaN    box  calendar  grape\n",
      "2    NaN   band      cone   goat\n",
      " Joining Data frmes along axis = 1:  \n",
      "        A      B        C     B         C      G\n",
      "1    axe    bat      cap  ball       cat  grain\n",
      "2  apple   bomb     cape  band      cone   goat\n",
      "3    ant  brain  curtain   NaN       NaN    NaN\n",
      "4    NaN    NaN      NaN   box  calendar  grape\n"
     ]
    },
    {
     "name": "stderr",
     "output_type": "stream",
     "text": [
      "C:\\Users\\User\\Anaconda3\\lib\\site-packages\\ipykernel_launcher.py:3: FutureWarning: Sorting because non-concatenation axis is not aligned. A future version\n",
      "of pandas will change to not sort by default.\n",
      "\n",
      "To accept the future behavior, pass 'sort=False'.\n",
      "\n",
      "To retain the current behavior and silence the warning, pass 'sort=True'.\n",
      "\n",
      "  This is separate from the ipykernel package so we can avoid doing imports until\n"
     ]
    }
   ],
   "source": [
    "df3 = pd.DataFrame({'B' : ['ball', 'box' , 'band'], 'C': ['cat', 'calendar', 'cone'],'G' : ['grain', 'grape', 'goat']} , index =[ 1, 4, 2])\n",
    "print(\"Data Frame 1 : \\n\", df1, \"Data Frame 3 : \\n\", df3)\n",
    "print(\" Joining Data frmes:  \\n\" , pd.concat([df1, df3]))\n",
    "print(\" Joining Data frmes along axis = 1:  \\n\" , pd.concat([df1, df3], axis = 1))"
   ]
  },
  {
   "cell_type": "code",
   "execution_count": 6,
   "metadata": {
    "collapsed": true
   },
   "outputs": [
    {
     "name": "stdout",
     "output_type": "stream",
     "text": [
      " Inner Join on dataframes : \n",
      "        B         C\n",
      "1    bat       cap\n",
      "2   bomb      cape\n",
      "3  brain   curtain\n",
      "1   ball       cat\n",
      "4    box  calendar\n",
      "2   band      cone\n"
     ]
    }
   ],
   "source": [
    "print(\" Inner Join on dataframes : \\n\", pd.concat([df1, df3], join = 'inner'))"
   ]
  },
  {
   "cell_type": "code",
   "execution_count": 7,
   "metadata": {
    "collapsed": true
   },
   "outputs": [
    {
     "name": "stdout",
     "output_type": "stream",
     "text": [
      "       A      B         C\n",
      "1    axe    bat       cap\n",
      "2  apple   bomb      cape\n",
      "3    ant  brain   curtain\n",
      "1    NaN   ball       cat\n",
      "4    NaN    box  calendar\n",
      "2    NaN   band      cone\n"
     ]
    }
   ],
   "source": [
    "print(pd.concat([df1, df3], join_axes = [df1.columns]))"
   ]
  },
  {
   "cell_type": "markdown",
   "metadata": {},
   "source": [
    "##### using append() function\n",
    "- the append() method in Pandas does not modify the original object—instead, it creates a new object with the combined data\n",
    "- not very efficient method as a new index and data buffer is created"
   ]
  },
  {
   "cell_type": "code",
   "execution_count": 8,
   "metadata": {
    "collapsed": true
   },
   "outputs": [
    {
     "name": "stdout",
     "output_type": "stream",
     "text": [
      "       A      B        C\n",
      "1    axe    bat      cap\n",
      "2  apple   bomb     cape\n",
      "3    ant  brain  curtain\n",
      "       D         E      F\n",
      "2  drain     eagle    fan\n",
      "3  drape  elephant  frame\n",
      "6    dot       egg   flag\n"
     ]
    },
    {
     "name": "stderr",
     "output_type": "stream",
     "text": [
      "C:\\Users\\User\\Anaconda3\\lib\\site-packages\\pandas\\core\\frame.py:6211: FutureWarning: Sorting because non-concatenation axis is not aligned. A future version\n",
      "of pandas will change to not sort by default.\n",
      "\n",
      "To accept the future behavior, pass 'sort=False'.\n",
      "\n",
      "To retain the current behavior and silence the warning, pass 'sort=True'.\n",
      "\n",
      "  sort=sort)\n"
     ]
    },
    {
     "data": {
      "text/html": [
       "<div>\n",
       "<style scoped>\n",
       "    .dataframe tbody tr th:only-of-type {\n",
       "        vertical-align: middle;\n",
       "    }\n",
       "\n",
       "    .dataframe tbody tr th {\n",
       "        vertical-align: top;\n",
       "    }\n",
       "\n",
       "    .dataframe thead th {\n",
       "        text-align: right;\n",
       "    }\n",
       "</style>\n",
       "<table border=\"1\" class=\"dataframe\">\n",
       "  <thead>\n",
       "    <tr style=\"text-align: right;\">\n",
       "      <th></th>\n",
       "      <th>A</th>\n",
       "      <th>B</th>\n",
       "      <th>C</th>\n",
       "      <th>D</th>\n",
       "      <th>E</th>\n",
       "      <th>F</th>\n",
       "    </tr>\n",
       "  </thead>\n",
       "  <tbody>\n",
       "    <tr>\n",
       "      <th>1</th>\n",
       "      <td>axe</td>\n",
       "      <td>bat</td>\n",
       "      <td>cap</td>\n",
       "      <td>NaN</td>\n",
       "      <td>NaN</td>\n",
       "      <td>NaN</td>\n",
       "    </tr>\n",
       "    <tr>\n",
       "      <th>2</th>\n",
       "      <td>apple</td>\n",
       "      <td>bomb</td>\n",
       "      <td>cape</td>\n",
       "      <td>NaN</td>\n",
       "      <td>NaN</td>\n",
       "      <td>NaN</td>\n",
       "    </tr>\n",
       "    <tr>\n",
       "      <th>3</th>\n",
       "      <td>ant</td>\n",
       "      <td>brain</td>\n",
       "      <td>curtain</td>\n",
       "      <td>NaN</td>\n",
       "      <td>NaN</td>\n",
       "      <td>NaN</td>\n",
       "    </tr>\n",
       "    <tr>\n",
       "      <th>2</th>\n",
       "      <td>NaN</td>\n",
       "      <td>NaN</td>\n",
       "      <td>NaN</td>\n",
       "      <td>drain</td>\n",
       "      <td>eagle</td>\n",
       "      <td>fan</td>\n",
       "    </tr>\n",
       "    <tr>\n",
       "      <th>3</th>\n",
       "      <td>NaN</td>\n",
       "      <td>NaN</td>\n",
       "      <td>NaN</td>\n",
       "      <td>drape</td>\n",
       "      <td>elephant</td>\n",
       "      <td>frame</td>\n",
       "    </tr>\n",
       "    <tr>\n",
       "      <th>6</th>\n",
       "      <td>NaN</td>\n",
       "      <td>NaN</td>\n",
       "      <td>NaN</td>\n",
       "      <td>dot</td>\n",
       "      <td>egg</td>\n",
       "      <td>flag</td>\n",
       "    </tr>\n",
       "  </tbody>\n",
       "</table>\n",
       "</div>"
      ],
      "text/plain": [
       "       A      B        C      D         E      F\n",
       "1    axe    bat      cap    NaN       NaN    NaN\n",
       "2  apple   bomb     cape    NaN       NaN    NaN\n",
       "3    ant  brain  curtain    NaN       NaN    NaN\n",
       "2    NaN    NaN      NaN  drain     eagle    fan\n",
       "3    NaN    NaN      NaN  drape  elephant  frame\n",
       "6    NaN    NaN      NaN    dot       egg   flag"
      ]
     },
     "execution_count": 8,
     "metadata": {},
     "output_type": "execute_result"
    }
   ],
   "source": [
    "print(df1)\n",
    "print(df2)\n",
    "df1.append(df2)"
   ]
  },
  {
   "cell_type": "markdown",
   "metadata": {},
   "source": [
    "##### Merge Operations"
   ]
  },
  {
   "cell_type": "markdown",
   "metadata": {},
   "source": [
    "##### One-to-one join\n",
    "- uses a common column as the key to join the dataframe.\n",
    "- the order of values in each column in not necessarily maintained"
   ]
  },
  {
   "cell_type": "code",
   "execution_count": 10,
   "metadata": {
    "collapsed": true
   },
   "outputs": [
    {
     "name": "stdout",
     "output_type": "stream",
     "text": [
      "Student dataframe: \n",
      "    St_id Branch\n",
      "0    101     IT\n",
      "1    102     CS\n",
      "2    103    ECE\n",
      "3    104     CS\n",
      "4    105   Mech \n",
      "Faculty Dataframe :\n",
      "    F_id F_name Branch\n",
      "0   110      A    ECE\n",
      "1   120      B   Mech\n",
      "2   130      C    EEE\n",
      "3   140      D     IT\n",
      "4   150      E     CS\n",
      "Merged dataframe : \n",
      "     St_id Branch  F_id F_name\n",
      "0    101     IT   140      D\n",
      "1    102     CS   150      E\n",
      "2    104     CS   150      E\n",
      "3    103    ECE   110      A\n",
      "4    105   Mech   120      B\n"
     ]
    }
   ],
   "source": [
    "df_stud = pd.DataFrame({'St_id': [101,102,103,104,105],'Branch': ['IT','CS','ECE','CS','Mech']})\n",
    "df_fac = pd.DataFrame({'F_id' : [110,120,130,140,150 ],'F_name' : ['A', 'B', 'C', 'D', 'E'],'Branch': ['ECE','Mech', 'EEE', \"IT\", 'CS'] })\n",
    "print(\"Student dataframe: \\n\", df_stud,'\\nFaculty Dataframe :\\n', df_fac)\n",
    "df_merge = pd.merge(df_stud, df_fac)\n",
    "print(\"Merged dataframe : \\n \", df_merge)"
   ]
  },
  {
   "cell_type": "markdown",
   "metadata": {},
   "source": [
    "##### Many-to-one joins\n",
    "- one of the two key columns contains duplicate entries.\n",
    "- the merged DataFrame preserves the duplicate entries."
   ]
  },
  {
   "cell_type": "code",
   "execution_count": 8,
   "metadata": {
    "collapsed": true
   },
   "outputs": [
    {
     "name": "stdout",
     "output_type": "stream",
     "text": [
      "Faculty information : \n",
      "   F_name F_field\n",
      "0      A      AI\n",
      "1      C      BS\n",
      "2      B     DLD\n",
      "3      E  thermo\n",
      "4      H      DS \n",
      "\n",
      "Merged DF: \n",
      "    St_id Branch  F_id F_name\n",
      "0    101     IT   140      D\n",
      "1    102     CS   150      E\n",
      "2    104     CS   150      E\n",
      "3    103    ECE   110      A\n",
      "4    105   Mech   120      B\n",
      "\n",
      "    St_id Branch  F_id F_name F_field\n",
      "0    102     CS   150      E  thermo\n",
      "1    104     CS   150      E  thermo\n",
      "2    103    ECE   110      A      AI\n",
      "3    105   Mech   120      B     DLD\n"
     ]
    }
   ],
   "source": [
    "df_faculty = pd.DataFrame({'F_name': ['A','C','B', 'E', 'H'],'F_field': ['AI', 'BS', 'DLD','thermo','DS']})\n",
    "print(\"Faculty information : \\n\", df_faculty, \"\\n\\nMerged DF: \\n\", df_merge)\n",
    "print('\\n',pd.merge(df_merge, df_faculty))"
   ]
  },
  {
   "cell_type": "markdown",
   "metadata": {},
   "source": [
    "##### Many-to-many join\n",
    "- when the key column in both the left and right array contins dupliates"
   ]
  },
  {
   "cell_type": "code",
   "execution_count": 11,
   "metadata": {
    "collapsed": true
   },
   "outputs": [
    {
     "name": "stdout",
     "output_type": "stream",
     "text": [
      "Branch Details : \n",
      "   Branch        Subjects\n",
      "0     CS             DAA\n",
      "1     CS              OS\n",
      "2   Mech  Thermodynamics\n",
      "3    ECE             DLD\n",
      "4    ECE  Microprocessor \n",
      "\n",
      " Student Details: \n",
      "    St_id Branch\n",
      "0    101     IT\n",
      "1    102     CS\n",
      "2    103    ECE\n",
      "3    104     CS\n",
      "4    105   Mech\n",
      "\n",
      "    St_id Branch        Subjects\n",
      "0    102     CS             DAA\n",
      "1    102     CS              OS\n",
      "2    104     CS             DAA\n",
      "3    104     CS              OS\n",
      "4    103    ECE             DLD\n",
      "5    103    ECE  Microprocessor\n",
      "6    105   Mech  Thermodynamics\n"
     ]
    }
   ],
   "source": [
    "df_branch = pd.DataFrame({'Branch': ['CS', 'CS', 'Mech', 'ECE','ECE'], 'Subjects' : ['DAA', 'OS', 'Thermodynamics', 'DLD', 'Microprocessor']})\n",
    "print(\"Branch Details : \\n\", df_branch, \"\\n\\n Student Details: \\n\", df_stud)\n",
    "print('\\n',pd.merge(df_stud, df_branch))"
   ]
  },
  {
   "cell_type": "markdown",
   "metadata": {},
   "source": [
    "##### Specific Merges\n",
    "- the 'on' keyword allows the merge to take place on specific column.\n",
    "- works only if both dataframes have the specified column"
   ]
  },
  {
   "cell_type": "code",
   "execution_count": 12,
   "metadata": {
    "collapsed": true
   },
   "outputs": [
    {
     "name": "stdout",
     "output_type": "stream",
     "text": [
      "Student dataframe: \n",
      "    St_id Branch\n",
      "0    101     IT\n",
      "1    102     CS\n",
      "2    103    ECE\n",
      "3    104     CS\n",
      "4    105   Mech \n",
      "Faculty Dataframe :\n",
      "    F_id F_name Branch\n",
      "0   110      A    ECE\n",
      "1   120      B   Mech\n",
      "2   130      C    EEE\n",
      "3   140      D     IT\n",
      "4   150      E     CS\n",
      "Merged dataframe : \n",
      "     St_id Branch  F_id F_name\n",
      "0    101     IT   140      D\n",
      "1    102     CS   150      E\n",
      "2    104     CS   150      E\n",
      "3    103    ECE   110      A\n",
      "4    105   Mech   120      B\n"
     ]
    }
   ],
   "source": [
    "print(\"Student dataframe: \\n\", df_stud,'\\nFaculty Dataframe :\\n', df_fac)\n",
    "print(\"Merged dataframe : \\n \", pd.merge(df_stud, df_fac, on = 'Branch') )"
   ]
  },
  {
   "cell_type": "markdown",
   "metadata": {},
   "source": [
    "When similar columns have different names in different dataframes"
   ]
  },
  {
   "cell_type": "code",
   "execution_count": 14,
   "metadata": {
    "collapsed": true
   },
   "outputs": [
    {
     "name": "stdout",
     "output_type": "stream",
     "text": [
      "Student Details : \n",
      "    St_id Branch\n",
      "0    101     IT\n",
      "1    102     CS\n",
      "2    103    ECE\n",
      "3    104     CS\n",
      "4    105   Mech Faculty Details: \n",
      "   F_name Stream\n",
      "0      A    ECE\n",
      "1      B   Mech\n",
      "2      C    EEE\n",
      "3      D     IT\n",
      "4      E     CS\n",
      "Merged Dataframes : \n",
      "    St_id Branch F_name Stream\n",
      "0    101     IT      D     IT\n",
      "1    102     CS      E     CS\n",
      "2    104     CS      E     CS\n",
      "3    103    ECE      A    ECE\n",
      "4    105   Mech      B   Mech\n"
     ]
    }
   ],
   "source": [
    "df_fac = pd.DataFrame({'F_name' : ['A', 'B', 'C', 'D', 'E'],'Stream': ['ECE','Mech', 'EEE', \"IT\", 'CS'] })\n",
    "print(\"Student Details : \\n\", df_stud, 'Faculty Details: \\n', df_fac)\n",
    "print(\"Merged Dataframes : \\n\", pd.merge(df_stud, df_fac, left_on = 'Branch', right_on = 'Stream'))"
   ]
  },
  {
   "cell_type": "markdown",
   "metadata": {},
   "source": [
    "We can also drop the redundant column"
   ]
  },
  {
   "cell_type": "code",
   "execution_count": 15,
   "metadata": {
    "collapsed": true
   },
   "outputs": [
    {
     "data": {
      "text/html": [
       "<div>\n",
       "<style scoped>\n",
       "    .dataframe tbody tr th:only-of-type {\n",
       "        vertical-align: middle;\n",
       "    }\n",
       "\n",
       "    .dataframe tbody tr th {\n",
       "        vertical-align: top;\n",
       "    }\n",
       "\n",
       "    .dataframe thead th {\n",
       "        text-align: right;\n",
       "    }\n",
       "</style>\n",
       "<table border=\"1\" class=\"dataframe\">\n",
       "  <thead>\n",
       "    <tr style=\"text-align: right;\">\n",
       "      <th></th>\n",
       "      <th>St_id</th>\n",
       "      <th>Branch</th>\n",
       "      <th>F_name</th>\n",
       "    </tr>\n",
       "  </thead>\n",
       "  <tbody>\n",
       "    <tr>\n",
       "      <th>0</th>\n",
       "      <td>101</td>\n",
       "      <td>IT</td>\n",
       "      <td>D</td>\n",
       "    </tr>\n",
       "    <tr>\n",
       "      <th>1</th>\n",
       "      <td>102</td>\n",
       "      <td>CS</td>\n",
       "      <td>E</td>\n",
       "    </tr>\n",
       "    <tr>\n",
       "      <th>2</th>\n",
       "      <td>104</td>\n",
       "      <td>CS</td>\n",
       "      <td>E</td>\n",
       "    </tr>\n",
       "    <tr>\n",
       "      <th>3</th>\n",
       "      <td>103</td>\n",
       "      <td>ECE</td>\n",
       "      <td>A</td>\n",
       "    </tr>\n",
       "    <tr>\n",
       "      <th>4</th>\n",
       "      <td>105</td>\n",
       "      <td>Mech</td>\n",
       "      <td>B</td>\n",
       "    </tr>\n",
       "  </tbody>\n",
       "</table>\n",
       "</div>"
      ],
      "text/plain": [
       "   St_id Branch F_name\n",
       "0    101     IT      D\n",
       "1    102     CS      E\n",
       "2    104     CS      E\n",
       "3    103    ECE      A\n",
       "4    105   Mech      B"
      ]
     },
     "execution_count": 15,
     "metadata": {},
     "output_type": "execute_result"
    }
   ],
   "source": [
    "pd.merge(df_stud, df_fac, left_on = 'Branch', right_on = 'Stream').drop('Stream', axis = 1)"
   ]
  },
  {
   "cell_type": "markdown",
   "metadata": {},
   "source": [
    "##### Merge over indices\n",
    "- left_index and right_index flags can be used to perform merge over the similar index of the dataframes.\n",
    "- Also, join( ) method performs the merge by default on indices"
   ]
  },
  {
   "cell_type": "code",
   "execution_count": 19,
   "metadata": {
    "collapsed": true
   },
   "outputs": [
    {
     "name": "stdout",
     "output_type": "stream",
     "text": [
      "Student Details : \n",
      "         St_id\n",
      "Branch       \n",
      "IT        101\n",
      "CS        102\n",
      "ECE       103\n",
      "CS        104\n",
      "Mech      105 Faculty Details: \n",
      "        F_name\n",
      "Stream       \n",
      "ECE         A\n",
      "Mech        B\n",
      "EEE         C\n",
      "IT          D\n",
      "CS          E\n",
      "Using merge on indices: \n",
      "       St_id F_name\n",
      "CS      102      E\n",
      "CS      104      E\n",
      "ECE     103      A\n",
      "IT      101      D\n",
      "Mech    105      B\n",
      "Using join( ): \n",
      "       St_id F_name\n",
      "CS      102      E\n",
      "CS      104      E\n",
      "ECE     103      A\n",
      "IT      101      D\n",
      "Mech    105      B\n"
     ]
    }
   ],
   "source": [
    "df1 = df_stud.set_index('Branch')\n",
    "df2 = df_fac.set_index('Stream')\n",
    "print(\"Student Details : \\n\", df1, 'Faculty Details: \\n', df2)\n",
    "print('\\nUsing merge on indices: \\n',pd.merge(df1, df2, left_index=True, right_index=True))\n",
    "print('\\nUsing join( ): \\n', df1.join(df2))"
   ]
  },
  {
   "cell_type": "markdown",
   "metadata": {},
   "source": [
    "##### Mix and match\n",
    "Mix indices and columns like left_index with right_on or left_on with right_index"
   ]
  },
  {
   "cell_type": "markdown",
   "metadata": {},
   "source": [
    "##### Different types of joins can also be specified like 'inner' , 'outer', 'left' and 'right' using how keyword"
   ]
  }
 ],
 "metadata": {
  "colab": {
   "collapsed_sections": [],
   "name": "Pandas.ipynb",
   "provenance": [],
   "version": "0.3.2"
  },
  "kernelspec": {
   "display_name": "Python 3",
   "language": "python",
   "name": "python3"
  },
  "language_info": {
   "codemirror_mode": {
    "name": "ipython",
    "version": 3
   },
   "file_extension": ".py",
   "mimetype": "text/x-python",
   "name": "python",
   "nbconvert_exporter": "python",
   "pygments_lexer": "ipython3",
   "version": "3.7.1"
  }
 },
 "nbformat": 4,
 "nbformat_minor": 1
}
